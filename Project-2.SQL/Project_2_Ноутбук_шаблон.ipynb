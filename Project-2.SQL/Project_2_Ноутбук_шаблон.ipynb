{
  "cells": [
    {
      "cell_type": "markdown",
      "id": "42289889-bd57-434e-9637-d3e354756316",
      "metadata": {
        "id": "42289889-bd57-434e-9637-d3e354756316"
      },
      "source": [
        "<center> <img src = https://raw.githubusercontent.com/AndreyRysistov/DatasetsForPandas/main/hh%20label.jpg alt=\"drawing\" style=\"width:400px;\">"
      ]
    },
    {
      "cell_type": "markdown",
      "id": "829cb75b-f14e-4ba8-9195-7ba929a7d656",
      "metadata": {
        "id": "829cb75b-f14e-4ba8-9195-7ba929a7d656",
        "tags": []
      },
      "source": [
        "# <center> Проект: Анализ вакансий из HeadHunter\n",
        "   "
      ]
    },
    {
      "cell_type": "code",
      "execution_count": 65,
      "id": "dccfde33-2452-43fb-a8a5-5c6ebc02a71d",
      "metadata": {
        "id": "dccfde33-2452-43fb-a8a5-5c6ebc02a71d"
      },
      "outputs": [],
      "source": [
        "import pandas as pd\n",
        "import plotly.express as px\n",
        "import psycopg2\n",
        "import warnings\n",
        "warnings.filterwarnings('ignore', category=UserWarning)"
      ]
    },
    {
      "cell_type": "code",
      "execution_count": 40,
      "id": "oVKH4ehvf8Ay",
      "metadata": {
        "id": "oVKH4ehvf8Ay"
      },
      "outputs": [],
      "source": [
        "DBNAME = 'project_sql'\n",
        "USER = 'skillfactory'\n",
        "PASSWORD = 'cCkxxLVrDE8EbvjueeMedPKt'\n",
        "HOST = '84.201.134.129'\n",
        "PORT = 5432"
      ]
    },
    {
      "cell_type": "code",
      "execution_count": 41,
      "id": "G4X_q8KBf7SF",
      "metadata": {
        "id": "G4X_q8KBf7SF"
      },
      "outputs": [],
      "source": [
        "connection = psycopg2.connect(\n",
        "    dbname=DBNAME,\n",
        "    user=USER,\n",
        "    host=HOST,\n",
        "    password=PASSWORD,\n",
        "    port=PORT\n",
        ")"
      ]
    },
    {
      "cell_type": "markdown",
      "id": "0dc6476b-7a00-44f1-ac93-6e3baed33a29",
      "metadata": {
        "id": "0dc6476b-7a00-44f1-ac93-6e3baed33a29"
      },
      "source": [
        "# Юнит 3. Предварительный анализ данных"
      ]
    },
    {
      "cell_type": "markdown",
      "id": "889782b6-8d1c-410e-8920-e57f27917c64",
      "metadata": {
        "id": "889782b6-8d1c-410e-8920-e57f27917c64"
      },
      "source": [
        "1. Напишите запрос, который посчитает количество вакансий в нашей базе (вакансии находятся в таблице vacancies). "
      ]
    },
    {
      "cell_type": "code",
      "execution_count": 42,
      "id": "bc39e68e-ed02-4ee2-9235-7258a2f867a8",
      "metadata": {
        "id": "bc39e68e-ed02-4ee2-9235-7258a2f867a8"
      },
      "outputs": [],
      "source": [
        "query_3_1 = '''\n",
        "SELECT COUNT(*)\n",
        "FROM public.vacancies\n",
        "'''"
      ]
    },
    {
      "cell_type": "code",
      "execution_count": 43,
      "id": "7mAwtsk4hEHY",
      "metadata": {
        "id": "7mAwtsk4hEHY"
      },
      "outputs": [
        {
          "data": {
            "text/plain": [
              "49197"
            ]
          },
          "execution_count": 43,
          "metadata": {},
          "output_type": "execute_result"
        }
      ],
      "source": [
        "vacancies_count = pd.read_sql_query(query_3_1, connection)\n",
        "vacancies_count['count'][0]"
      ]
    },
    {
      "cell_type": "markdown",
      "id": "b583485d-1f9e-494e-ada4-80ffff7c53d6",
      "metadata": {
        "id": "b583485d-1f9e-494e-ada4-80ffff7c53d6"
      },
      "source": [
        "2. Напишите запрос, который посчитает количество работодателей (таблица employers). "
      ]
    },
    {
      "cell_type": "code",
      "execution_count": 44,
      "id": "5408c52c-3407-4a63-b25b-1aafa2322d28",
      "metadata": {
        "id": "5408c52c-3407-4a63-b25b-1aafa2322d28"
      },
      "outputs": [],
      "source": [
        "query_3_2 = '''\n",
        "SELECT COUNT(*)\n",
        "FROM public.employers\n",
        "'''"
      ]
    },
    {
      "cell_type": "code",
      "execution_count": 45,
      "id": "jVL4eshKhdqc",
      "metadata": {
        "id": "jVL4eshKhdqc"
      },
      "outputs": [
        {
          "data": {
            "text/plain": [
              "23501"
            ]
          },
          "execution_count": 45,
          "metadata": {},
          "output_type": "execute_result"
        }
      ],
      "source": [
        "employers_count = pd.read_sql_query(query_3_2, connection)\n",
        "employers_count['count'][0]"
      ]
    },
    {
      "cell_type": "markdown",
      "id": "a2bfff1f-c975-4bf6-84be-2185d79dcb76",
      "metadata": {
        "id": "a2bfff1f-c975-4bf6-84be-2185d79dcb76"
      },
      "source": [
        "3. Посчитате с помощью запроса количество регионов (таблица areas)."
      ]
    },
    {
      "cell_type": "code",
      "execution_count": 46,
      "id": "1m8QJwBYhey6",
      "metadata": {
        "id": "1m8QJwBYhey6"
      },
      "outputs": [],
      "source": [
        "query_3_3 = '''\n",
        "SELECT COUNT(*)\n",
        "FROM public.areas\n",
        "'''"
      ]
    },
    {
      "cell_type": "code",
      "execution_count": 47,
      "id": "EZsn9tlfhe7f",
      "metadata": {
        "id": "EZsn9tlfhe7f"
      },
      "outputs": [
        {
          "data": {
            "text/plain": [
              "1362"
            ]
          },
          "execution_count": 47,
          "metadata": {},
          "output_type": "execute_result"
        }
      ],
      "source": [
        "areas_count = pd.read_sql_query(query_3_3, connection)\n",
        "areas_count['count'][0]"
      ]
    },
    {
      "cell_type": "markdown",
      "id": "41bb59f3-53cc-4a67-a5bc-bedf573955e4",
      "metadata": {
        "id": "41bb59f3-53cc-4a67-a5bc-bedf573955e4"
      },
      "source": [
        "4. Посчитате с помощью запроса количество сфер деятельности в базе (таблица industries)."
      ]
    },
    {
      "cell_type": "code",
      "execution_count": 48,
      "id": "d286cf4c-707b-4cd2-9190-7ab3587d04a1",
      "metadata": {
        "id": "d286cf4c-707b-4cd2-9190-7ab3587d04a1"
      },
      "outputs": [],
      "source": [
        "query_3_4 = '''\n",
        "SELECT COUNT(*)\n",
        "FROM public.industries\n",
        "'''"
      ]
    },
    {
      "cell_type": "code",
      "execution_count": 49,
      "id": "JYAaoZ4qhfzW",
      "metadata": {
        "id": "JYAaoZ4qhfzW"
      },
      "outputs": [
        {
          "data": {
            "text/plain": [
              "294"
            ]
          },
          "execution_count": 49,
          "metadata": {},
          "output_type": "execute_result"
        }
      ],
      "source": [
        "industries_count = pd.read_sql_query(query_3_4, connection)\n",
        "industries_count['count'][0]"
      ]
    },
    {
      "cell_type": "markdown",
      "id": "9a8a2181-6914-448b-85f1-38f5f18b8a93",
      "metadata": {
        "id": "9a8a2181-6914-448b-85f1-38f5f18b8a93"
      },
      "source": [
        "***"
      ]
    },
    {
      "cell_type": "markdown",
      "id": "094c1694",
      "metadata": {},
      "source": [
        "- В среднем на каждого работодателя приходится по 2 вакансии.\n",
        "- Кол-во регионов свидетельствует о том, что ареал поисков не ограничивается только Россией.\n",
        "- Если сверить кол-во сфер деятельности с реестром росминтруда, можно сказать, что работодатели ищут работников далеко не во всех сферах."
      ]
    },
    {
      "cell_type": "markdown",
      "id": "8d62a9f3-f64e-4fe7-bdac-c4dffa16155e",
      "metadata": {
        "id": "8d62a9f3-f64e-4fe7-bdac-c4dffa16155e"
      },
      "source": [
        "# Юнит 4. Детальный анализ вакансий"
      ]
    },
    {
      "cell_type": "markdown",
      "id": "93053d3d-b284-481a-9cf7-012d7014c0e0",
      "metadata": {
        "id": "93053d3d-b284-481a-9cf7-012d7014c0e0"
      },
      "source": [
        "1. Напишите запрос, который позволит узнать, сколько (cnt) вакансий в каждом регионе (area).\n",
        "Отсортируйте по количеству вакансий в порядке убывания."
      ]
    },
    {
      "cell_type": "code",
      "execution_count": 50,
      "id": "3f069da6-fdc9-4ae7-b514-fafe2675efd3",
      "metadata": {
        "id": "3f069da6-fdc9-4ae7-b514-fafe2675efd3"
      },
      "outputs": [],
      "source": [
        "# Используем левое присоединение, т.к. нам нужно посчитать именно вакансии\n",
        "query_4_1 = '''\n",
        "SELECT \n",
        "    ar.name area,\n",
        "    COUNT(vac.id) cnt\n",
        "FROM\n",
        "    public.vacancies vac\n",
        "    LEFT JOIN public.areas ar ON vac.area_id=ar.id\n",
        "GROUP BY ar.name\n",
        "ORDER BY cnt DESC\n",
        "LIMIT 5\n",
        "'''"
      ]
    },
    {
      "cell_type": "code",
      "execution_count": 51,
      "id": "P7QL86hrjhRJ",
      "metadata": {
        "id": "P7QL86hrjhRJ"
      },
      "outputs": [
        {
          "data": {
            "text/html": [
              "<div>\n",
              "<style scoped>\n",
              "    .dataframe tbody tr th:only-of-type {\n",
              "        vertical-align: middle;\n",
              "    }\n",
              "\n",
              "    .dataframe tbody tr th {\n",
              "        vertical-align: top;\n",
              "    }\n",
              "\n",
              "    .dataframe thead th {\n",
              "        text-align: right;\n",
              "    }\n",
              "</style>\n",
              "<table border=\"1\" class=\"dataframe\">\n",
              "  <thead>\n",
              "    <tr style=\"text-align: right;\">\n",
              "      <th></th>\n",
              "      <th>area</th>\n",
              "      <th>cnt</th>\n",
              "    </tr>\n",
              "  </thead>\n",
              "  <tbody>\n",
              "    <tr>\n",
              "      <th>0</th>\n",
              "      <td>Москва</td>\n",
              "      <td>5333</td>\n",
              "    </tr>\n",
              "    <tr>\n",
              "      <th>1</th>\n",
              "      <td>Санкт-Петербург</td>\n",
              "      <td>2851</td>\n",
              "    </tr>\n",
              "    <tr>\n",
              "      <th>2</th>\n",
              "      <td>Минск</td>\n",
              "      <td>2112</td>\n",
              "    </tr>\n",
              "    <tr>\n",
              "      <th>3</th>\n",
              "      <td>Новосибирск</td>\n",
              "      <td>2006</td>\n",
              "    </tr>\n",
              "    <tr>\n",
              "      <th>4</th>\n",
              "      <td>Алматы</td>\n",
              "      <td>1892</td>\n",
              "    </tr>\n",
              "  </tbody>\n",
              "</table>\n",
              "</div>"
            ],
            "text/plain": [
              "              area   cnt\n",
              "0           Москва  5333\n",
              "1  Санкт-Петербург  2851\n",
              "2            Минск  2112\n",
              "3      Новосибирск  2006\n",
              "4           Алматы  1892"
            ]
          },
          "execution_count": 51,
          "metadata": {},
          "output_type": "execute_result"
        }
      ],
      "source": [
        "area_vac = pd.read_sql_query(query_4_1, connection)\n",
        "area_vac"
      ]
    },
    {
      "cell_type": "markdown",
      "id": "4266f0b6-1646-492a-88b4-2f6a46502135",
      "metadata": {
        "id": "4266f0b6-1646-492a-88b4-2f6a46502135"
      },
      "source": [
        "2. Напишите запрос, чтобы определить у какого количества вакансий заполнено хотя бы одно из двух полей с зарплатой."
      ]
    },
    {
      "cell_type": "code",
      "execution_count": 52,
      "id": "0c44b350-72eb-4d65-8b54-a1fc449ba9fd",
      "metadata": {
        "id": "0c44b350-72eb-4d65-8b54-a1fc449ba9fd"
      },
      "outputs": [],
      "source": [
        "query_4_2 = '''\n",
        "SELECT \n",
        "    COUNT(*)\n",
        "FROM\n",
        "    public.vacancies\n",
        "WHERE\n",
        "    (salary_from IS NOT NULL) OR (salary_to IS NOT NULL)\n",
        "'''"
      ]
    },
    {
      "cell_type": "code",
      "execution_count": 53,
      "id": "rhvwaMDkoWTi",
      "metadata": {
        "id": "rhvwaMDkoWTi"
      },
      "outputs": [
        {
          "data": {
            "text/plain": [
              "24073"
            ]
          },
          "execution_count": 53,
          "metadata": {},
          "output_type": "execute_result"
        }
      ],
      "source": [
        "cnt_vac_sal = pd.read_sql_query(query_4_2, connection)\n",
        "cnt_vac_sal['count'][0]"
      ]
    },
    {
      "cell_type": "markdown",
      "id": "635c4d5d-f323-4c66-b428-50a088120aa0",
      "metadata": {
        "id": "635c4d5d-f323-4c66-b428-50a088120aa0"
      },
      "source": [
        "3. Найдите средние значения для нижней и верхней границы зарплатной вилки. Округлите значения до целого."
      ]
    },
    {
      "cell_type": "code",
      "execution_count": 54,
      "id": "603cdbe4-0ec3-4106-8eaf-c73fcdd29165",
      "metadata": {
        "id": "603cdbe4-0ec3-4106-8eaf-c73fcdd29165"
      },
      "outputs": [],
      "source": [
        "query_4_3 = '''\n",
        "SELECT \n",
        "    ROUND(AVG(salary_from)) sal_from,\n",
        "    ROUND(AVG(salary_to)) sal_to\n",
        "FROM\n",
        "    public.vacancies\n",
        "'''"
      ]
    },
    {
      "cell_type": "code",
      "execution_count": 55,
      "id": "pswpAb66ovZZ",
      "metadata": {
        "id": "pswpAb66ovZZ"
      },
      "outputs": [
        {
          "data": {
            "text/html": [
              "<div>\n",
              "<style scoped>\n",
              "    .dataframe tbody tr th:only-of-type {\n",
              "        vertical-align: middle;\n",
              "    }\n",
              "\n",
              "    .dataframe tbody tr th {\n",
              "        vertical-align: top;\n",
              "    }\n",
              "\n",
              "    .dataframe thead th {\n",
              "        text-align: right;\n",
              "    }\n",
              "</style>\n",
              "<table border=\"1\" class=\"dataframe\">\n",
              "  <thead>\n",
              "    <tr style=\"text-align: right;\">\n",
              "      <th></th>\n",
              "      <th>sal_from</th>\n",
              "      <th>sal_to</th>\n",
              "    </tr>\n",
              "  </thead>\n",
              "  <tbody>\n",
              "    <tr>\n",
              "      <th>0</th>\n",
              "      <td>71065.0</td>\n",
              "      <td>110537.0</td>\n",
              "    </tr>\n",
              "  </tbody>\n",
              "</table>\n",
              "</div>"
            ],
            "text/plain": [
              "   sal_from    sal_to\n",
              "0   71065.0  110537.0"
            ]
          },
          "execution_count": 55,
          "metadata": {},
          "output_type": "execute_result"
        }
      ],
      "source": [
        "avg_sal = pd.read_sql_query(query_4_3, connection)\n",
        "avg_sal"
      ]
    },
    {
      "cell_type": "markdown",
      "id": "f3fdaec9-5fd3-4260-9cf5-1d7406b628a5",
      "metadata": {
        "id": "f3fdaec9-5fd3-4260-9cf5-1d7406b628a5"
      },
      "source": [
        "4. Напишите запрос, который выведет количество вакансий для каждого сочетания типа рабочего графика (schedule) и типа трудоустройства (employment), используемого в вакансиях. Результат отсортируйте по убыванию количества.\n"
      ]
    },
    {
      "cell_type": "code",
      "execution_count": 56,
      "id": "1ea710ec-871b-431e-9462-c7d0fd87011b",
      "metadata": {
        "id": "1ea710ec-871b-431e-9462-c7d0fd87011b"
      },
      "outputs": [],
      "source": [
        "# Считаем по каждой существующей комбинации schedule и employment\n",
        "query_4_4 = '''\n",
        "SELECT \n",
        "    schedule,\n",
        "    employment,\n",
        "    COUNT(*)\n",
        "FROM\n",
        "    public.vacancies\n",
        "GROUP BY schedule, employment\n",
        "ORDER BY count DESC\n",
        "'''"
      ]
    },
    {
      "cell_type": "code",
      "execution_count": 57,
      "id": "lGUVqavdo4JQ",
      "metadata": {
        "id": "lGUVqavdo4JQ"
      },
      "outputs": [
        {
          "data": {
            "text/html": [
              "<div>\n",
              "<style scoped>\n",
              "    .dataframe tbody tr th:only-of-type {\n",
              "        vertical-align: middle;\n",
              "    }\n",
              "\n",
              "    .dataframe tbody tr th {\n",
              "        vertical-align: top;\n",
              "    }\n",
              "\n",
              "    .dataframe thead th {\n",
              "        text-align: right;\n",
              "    }\n",
              "</style>\n",
              "<table border=\"1\" class=\"dataframe\">\n",
              "  <thead>\n",
              "    <tr style=\"text-align: right;\">\n",
              "      <th></th>\n",
              "      <th>schedule</th>\n",
              "      <th>employment</th>\n",
              "      <th>count</th>\n",
              "    </tr>\n",
              "  </thead>\n",
              "  <tbody>\n",
              "    <tr>\n",
              "      <th>0</th>\n",
              "      <td>Полный день</td>\n",
              "      <td>Полная занятость</td>\n",
              "      <td>35367</td>\n",
              "    </tr>\n",
              "    <tr>\n",
              "      <th>1</th>\n",
              "      <td>Удаленная работа</td>\n",
              "      <td>Полная занятость</td>\n",
              "      <td>7802</td>\n",
              "    </tr>\n",
              "    <tr>\n",
              "      <th>2</th>\n",
              "      <td>Гибкий график</td>\n",
              "      <td>Полная занятость</td>\n",
              "      <td>1593</td>\n",
              "    </tr>\n",
              "    <tr>\n",
              "      <th>3</th>\n",
              "      <td>Удаленная работа</td>\n",
              "      <td>Частичная занятость</td>\n",
              "      <td>1312</td>\n",
              "    </tr>\n",
              "    <tr>\n",
              "      <th>4</th>\n",
              "      <td>Сменный график</td>\n",
              "      <td>Полная занятость</td>\n",
              "      <td>940</td>\n",
              "    </tr>\n",
              "    <tr>\n",
              "      <th>5</th>\n",
              "      <td>Полный день</td>\n",
              "      <td>Стажировка</td>\n",
              "      <td>569</td>\n",
              "    </tr>\n",
              "    <tr>\n",
              "      <th>6</th>\n",
              "      <td>Вахтовый метод</td>\n",
              "      <td>Полная занятость</td>\n",
              "      <td>367</td>\n",
              "    </tr>\n",
              "    <tr>\n",
              "      <th>7</th>\n",
              "      <td>Полный день</td>\n",
              "      <td>Частичная занятость</td>\n",
              "      <td>347</td>\n",
              "    </tr>\n",
              "    <tr>\n",
              "      <th>8</th>\n",
              "      <td>Гибкий график</td>\n",
              "      <td>Частичная занятость</td>\n",
              "      <td>312</td>\n",
              "    </tr>\n",
              "    <tr>\n",
              "      <th>9</th>\n",
              "      <td>Полный день</td>\n",
              "      <td>Проектная работа</td>\n",
              "      <td>141</td>\n",
              "    </tr>\n",
              "    <tr>\n",
              "      <th>10</th>\n",
              "      <td>Удаленная работа</td>\n",
              "      <td>Проектная работа</td>\n",
              "      <td>133</td>\n",
              "    </tr>\n",
              "    <tr>\n",
              "      <th>11</th>\n",
              "      <td>Гибкий график</td>\n",
              "      <td>Стажировка</td>\n",
              "      <td>116</td>\n",
              "    </tr>\n",
              "    <tr>\n",
              "      <th>12</th>\n",
              "      <td>Сменный график</td>\n",
              "      <td>Частичная занятость</td>\n",
              "      <td>101</td>\n",
              "    </tr>\n",
              "    <tr>\n",
              "      <th>13</th>\n",
              "      <td>Удаленная работа</td>\n",
              "      <td>Стажировка</td>\n",
              "      <td>64</td>\n",
              "    </tr>\n",
              "    <tr>\n",
              "      <th>14</th>\n",
              "      <td>Гибкий график</td>\n",
              "      <td>Проектная работа</td>\n",
              "      <td>18</td>\n",
              "    </tr>\n",
              "    <tr>\n",
              "      <th>15</th>\n",
              "      <td>Сменный график</td>\n",
              "      <td>Стажировка</td>\n",
              "      <td>12</td>\n",
              "    </tr>\n",
              "    <tr>\n",
              "      <th>16</th>\n",
              "      <td>Вахтовый метод</td>\n",
              "      <td>Проектная работа</td>\n",
              "      <td>2</td>\n",
              "    </tr>\n",
              "    <tr>\n",
              "      <th>17</th>\n",
              "      <td>Сменный график</td>\n",
              "      <td>Проектная работа</td>\n",
              "      <td>1</td>\n",
              "    </tr>\n",
              "  </tbody>\n",
              "</table>\n",
              "</div>"
            ],
            "text/plain": [
              "            schedule           employment  count\n",
              "0        Полный день     Полная занятость  35367\n",
              "1   Удаленная работа     Полная занятость   7802\n",
              "2      Гибкий график     Полная занятость   1593\n",
              "3   Удаленная работа  Частичная занятость   1312\n",
              "4     Сменный график     Полная занятость    940\n",
              "5        Полный день           Стажировка    569\n",
              "6     Вахтовый метод     Полная занятость    367\n",
              "7        Полный день  Частичная занятость    347\n",
              "8      Гибкий график  Частичная занятость    312\n",
              "9        Полный день     Проектная работа    141\n",
              "10  Удаленная работа     Проектная работа    133\n",
              "11     Гибкий график           Стажировка    116\n",
              "12    Сменный график  Частичная занятость    101\n",
              "13  Удаленная работа           Стажировка     64\n",
              "14     Гибкий график     Проектная работа     18\n",
              "15    Сменный график           Стажировка     12\n",
              "16    Вахтовый метод     Проектная работа      2\n",
              "17    Сменный график     Проектная работа      1"
            ]
          },
          "execution_count": 57,
          "metadata": {},
          "output_type": "execute_result"
        }
      ],
      "source": [
        "cnt_sh_emp = pd.read_sql_query(query_4_4, connection)\n",
        "cnt_sh_emp"
      ]
    },
    {
      "cell_type": "markdown",
      "id": "0136ffee-0ead-4a6b-b608-61d1c753a438",
      "metadata": {
        "id": "0136ffee-0ead-4a6b-b608-61d1c753a438"
      },
      "source": [
        "5. Напишите запрос, выводящий значения поля Требуемый опыт работы (experience) в порядке возрастания количества вакансий, в которых указан данный вариант опыта. "
      ]
    },
    {
      "cell_type": "code",
      "execution_count": 58,
      "id": "5b3a8e79-f7ab-4008-b767-12aea3a205ea",
      "metadata": {
        "id": "5b3a8e79-f7ab-4008-b767-12aea3a205ea"
      },
      "outputs": [],
      "source": [
        "query_4_5 = '''\n",
        "SELECT \n",
        "    experience \"Требуемый опыт работы\",\n",
        "    COUNT(*)\n",
        "FROM\n",
        "    public.vacancies\n",
        "GROUP BY 1\n",
        "ORDER BY 2\n",
        "'''"
      ]
    },
    {
      "cell_type": "code",
      "execution_count": 59,
      "id": "3Is64Y-hpDpq",
      "metadata": {
        "id": "3Is64Y-hpDpq"
      },
      "outputs": [
        {
          "data": {
            "text/html": [
              "<div>\n",
              "<style scoped>\n",
              "    .dataframe tbody tr th:only-of-type {\n",
              "        vertical-align: middle;\n",
              "    }\n",
              "\n",
              "    .dataframe tbody tr th {\n",
              "        vertical-align: top;\n",
              "    }\n",
              "\n",
              "    .dataframe thead th {\n",
              "        text-align: right;\n",
              "    }\n",
              "</style>\n",
              "<table border=\"1\" class=\"dataframe\">\n",
              "  <thead>\n",
              "    <tr style=\"text-align: right;\">\n",
              "      <th></th>\n",
              "      <th>Требуемый опыт работы</th>\n",
              "      <th>count</th>\n",
              "    </tr>\n",
              "  </thead>\n",
              "  <tbody>\n",
              "    <tr>\n",
              "      <th>0</th>\n",
              "      <td>Более 6 лет</td>\n",
              "      <td>1337</td>\n",
              "    </tr>\n",
              "    <tr>\n",
              "      <th>1</th>\n",
              "      <td>Нет опыта</td>\n",
              "      <td>7197</td>\n",
              "    </tr>\n",
              "    <tr>\n",
              "      <th>2</th>\n",
              "      <td>От 3 до 6 лет</td>\n",
              "      <td>14511</td>\n",
              "    </tr>\n",
              "    <tr>\n",
              "      <th>3</th>\n",
              "      <td>От 1 года до 3 лет</td>\n",
              "      <td>26152</td>\n",
              "    </tr>\n",
              "  </tbody>\n",
              "</table>\n",
              "</div>"
            ],
            "text/plain": [
              "  Требуемый опыт работы  count\n",
              "0           Более 6 лет   1337\n",
              "1             Нет опыта   7197\n",
              "2         От 3 до 6 лет  14511\n",
              "3    От 1 года до 3 лет  26152"
            ]
          },
          "execution_count": 59,
          "metadata": {},
          "output_type": "execute_result"
        }
      ],
      "source": [
        "cnt_exp = pd.read_sql_query(query_4_5, connection)\n",
        "cnt_exp"
      ]
    },
    {
      "cell_type": "markdown",
      "id": "oq2b7n1QpIka",
      "metadata": {
        "id": "oq2b7n1QpIka"
      },
      "source": [
        "***"
      ]
    },
    {
      "cell_type": "code",
      "execution_count": 60,
      "id": "678c89e0",
      "metadata": {},
      "outputs": [
        {
          "data": {
            "text/plain": [
              "6.37"
            ]
          },
          "execution_count": 60,
          "metadata": {},
          "output_type": "execute_result"
        }
      ],
      "source": [
        "# Доп. запрос, чтобы узнать сколько ключевых навыков в среднем указывают в вакансиях\n",
        "query_addit_1 = '''\n",
        "SELECT\n",
        "    ROUND(AVG(length(key_skills)-length(replace(key_skills, '\\t', '')) + 1), 2)\n",
        "FROM\n",
        "    public.vacancies\n",
        "'''\n",
        "\n",
        "avg_ks = pd.read_sql_query(query_addit_1, connection)\n",
        "avg_ks['round'][0]"
      ]
    },
    {
      "cell_type": "code",
      "execution_count": 68,
      "id": "dd05df8c",
      "metadata": {},
      "outputs": [
        {
          "ename": "ValueError",
          "evalue": "--plotlyjs argument is not a valid URL or file path: ",
          "output_type": "error",
          "traceback": [
            "\u001b[1;31m---------------------------------------------------------------------------\u001b[0m",
            "\u001b[1;31mValueError\u001b[0m                                Traceback (most recent call last)",
            "Cell \u001b[1;32mIn[68], line 32\u001b[0m\n\u001b[0;32m     20\u001b[0m pio\u001b[39m.\u001b[39mkaleido\u001b[39m.\u001b[39mscope\u001b[39m.\u001b[39mplotlyjs \u001b[39m=\u001b[39m \u001b[39m\"\u001b[39m\u001b[39mC:/Users/Колпаки/AppData/Local/Programs/Python/Python310/Lib/site-packages/plotly/package_data/plotly.min.js\u001b[39m\u001b[39m\"\u001b[39m\n\u001b[0;32m     22\u001b[0m bar_avg_ind \u001b[39m=\u001b[39m px\u001b[39m.\u001b[39mbar(\n\u001b[0;32m     23\u001b[0m     avg_ind,\n\u001b[0;32m     24\u001b[0m     y\u001b[39m=\u001b[39m\u001b[39m'\u001b[39m\u001b[39msalary\u001b[39m\u001b[39m'\u001b[39m,\n\u001b[1;32m   (...)\u001b[0m\n\u001b[0;32m     30\u001b[0m     title\u001b[39m=\u001b[39m\u001b[39m'\u001b[39m\u001b[39mСамые высокооплачиваемые сферы деятельности\u001b[39m\u001b[39m'\u001b[39m\n\u001b[0;32m     31\u001b[0m )\n\u001b[1;32m---> 32\u001b[0m bar_avg_ind\u001b[39m.\u001b[39;49mshow(\u001b[39m'\u001b[39;49m\u001b[39mpng\u001b[39;49m\u001b[39m'\u001b[39;49m)\n",
            "File \u001b[1;32mc:\\Users\\Колпаки\\AppData\\Local\\Programs\\Python\\Python310\\lib\\site-packages\\plotly\\basedatatypes.py:3409\u001b[0m, in \u001b[0;36mBaseFigure.show\u001b[1;34m(self, *args, **kwargs)\u001b[0m\n\u001b[0;32m   3376\u001b[0m \u001b[39m\u001b[39m\u001b[39m\"\"\"\u001b[39;00m\n\u001b[0;32m   3377\u001b[0m \u001b[39mShow a figure using either the default renderer(s) or the renderer(s)\u001b[39;00m\n\u001b[0;32m   3378\u001b[0m \u001b[39mspecified by the renderer argument\u001b[39;00m\n\u001b[1;32m   (...)\u001b[0m\n\u001b[0;32m   3405\u001b[0m \u001b[39mNone\u001b[39;00m\n\u001b[0;32m   3406\u001b[0m \u001b[39m\"\"\"\u001b[39;00m\n\u001b[0;32m   3407\u001b[0m \u001b[39mimport\u001b[39;00m \u001b[39mplotly\u001b[39;00m\u001b[39m.\u001b[39;00m\u001b[39mio\u001b[39;00m \u001b[39mas\u001b[39;00m \u001b[39mpio\u001b[39;00m\n\u001b[1;32m-> 3409\u001b[0m \u001b[39mreturn\u001b[39;00m pio\u001b[39m.\u001b[39mshow(\u001b[39mself\u001b[39m, \u001b[39m*\u001b[39margs, \u001b[39m*\u001b[39m\u001b[39m*\u001b[39mkwargs)\n",
            "File \u001b[1;32mc:\\Users\\Колпаки\\AppData\\Local\\Programs\\Python\\Python310\\lib\\site-packages\\plotly\\io\\_renderers.py:388\u001b[0m, in \u001b[0;36mshow\u001b[1;34m(fig, renderer, validate, **kwargs)\u001b[0m\n\u001b[0;32m    385\u001b[0m fig_dict \u001b[39m=\u001b[39m validate_coerce_fig_to_dict(fig, validate)\n\u001b[0;32m    387\u001b[0m \u001b[39m# Mimetype renderers\u001b[39;00m\n\u001b[1;32m--> 388\u001b[0m bundle \u001b[39m=\u001b[39m renderers\u001b[39m.\u001b[39m_build_mime_bundle(fig_dict, renderers_string\u001b[39m=\u001b[39mrenderer, \u001b[39m*\u001b[39m\u001b[39m*\u001b[39mkwargs)\n\u001b[0;32m    389\u001b[0m \u001b[39mif\u001b[39;00m bundle:\n\u001b[0;32m    390\u001b[0m     \u001b[39mif\u001b[39;00m \u001b[39mnot\u001b[39;00m ipython_display:\n",
            "File \u001b[1;32mc:\\Users\\Колпаки\\AppData\\Local\\Programs\\Python\\Python310\\lib\\site-packages\\plotly\\io\\_renderers.py:296\u001b[0m, in \u001b[0;36mRenderersConfig._build_mime_bundle\u001b[1;34m(self, fig_dict, renderers_string, **kwargs)\u001b[0m\n\u001b[0;32m    293\u001b[0m             \u001b[39mif\u001b[39;00m \u001b[39mhasattr\u001b[39m(renderer, k):\n\u001b[0;32m    294\u001b[0m                 \u001b[39msetattr\u001b[39m(renderer, k, v)\n\u001b[1;32m--> 296\u001b[0m         bundle\u001b[39m.\u001b[39mupdate(renderer\u001b[39m.\u001b[39;49mto_mimebundle(fig_dict))\n\u001b[0;32m    298\u001b[0m \u001b[39mreturn\u001b[39;00m bundle\n",
            "File \u001b[1;32mc:\\Users\\Колпаки\\AppData\\Local\\Programs\\Python\\Python310\\lib\\site-packages\\plotly\\io\\_base_renderers.py:127\u001b[0m, in \u001b[0;36mImageRenderer.to_mimebundle\u001b[1;34m(self, fig_dict)\u001b[0m\n\u001b[0;32m    126\u001b[0m \u001b[39mdef\u001b[39;00m \u001b[39mto_mimebundle\u001b[39m(\u001b[39mself\u001b[39m, fig_dict):\n\u001b[1;32m--> 127\u001b[0m     image_bytes \u001b[39m=\u001b[39m to_image(\n\u001b[0;32m    128\u001b[0m         fig_dict,\n\u001b[0;32m    129\u001b[0m         \u001b[39mformat\u001b[39;49m\u001b[39m=\u001b[39;49m\u001b[39mself\u001b[39;49m\u001b[39m.\u001b[39;49mformat,\n\u001b[0;32m    130\u001b[0m         width\u001b[39m=\u001b[39;49m\u001b[39mself\u001b[39;49m\u001b[39m.\u001b[39;49mwidth,\n\u001b[0;32m    131\u001b[0m         height\u001b[39m=\u001b[39;49m\u001b[39mself\u001b[39;49m\u001b[39m.\u001b[39;49mheight,\n\u001b[0;32m    132\u001b[0m         scale\u001b[39m=\u001b[39;49m\u001b[39mself\u001b[39;49m\u001b[39m.\u001b[39;49mscale,\n\u001b[0;32m    133\u001b[0m         validate\u001b[39m=\u001b[39;49m\u001b[39mFalse\u001b[39;49;00m,\n\u001b[0;32m    134\u001b[0m         engine\u001b[39m=\u001b[39;49m\u001b[39mself\u001b[39;49m\u001b[39m.\u001b[39;49mengine,\n\u001b[0;32m    135\u001b[0m     )\n\u001b[0;32m    137\u001b[0m     \u001b[39mif\u001b[39;00m \u001b[39mself\u001b[39m\u001b[39m.\u001b[39mb64_encode:\n\u001b[0;32m    138\u001b[0m         image_str \u001b[39m=\u001b[39m base64\u001b[39m.\u001b[39mb64encode(image_bytes)\u001b[39m.\u001b[39mdecode(\u001b[39m\"\u001b[39m\u001b[39mutf8\u001b[39m\u001b[39m\"\u001b[39m)\n",
            "File \u001b[1;32mc:\\Users\\Колпаки\\AppData\\Local\\Programs\\Python\\Python310\\lib\\site-packages\\plotly\\io\\_kaleido.py:144\u001b[0m, in \u001b[0;36mto_image\u001b[1;34m(fig, format, width, height, scale, validate, engine)\u001b[0m\n\u001b[0;32m    141\u001b[0m \u001b[39m# Validate figure\u001b[39;00m\n\u001b[0;32m    142\u001b[0m \u001b[39m# ---------------\u001b[39;00m\n\u001b[0;32m    143\u001b[0m fig_dict \u001b[39m=\u001b[39m validate_coerce_fig_to_dict(fig, validate)\n\u001b[1;32m--> 144\u001b[0m img_bytes \u001b[39m=\u001b[39m scope\u001b[39m.\u001b[39;49mtransform(\n\u001b[0;32m    145\u001b[0m     fig_dict, \u001b[39mformat\u001b[39;49m\u001b[39m=\u001b[39;49m\u001b[39mformat\u001b[39;49m, width\u001b[39m=\u001b[39;49mwidth, height\u001b[39m=\u001b[39;49mheight, scale\u001b[39m=\u001b[39;49mscale\n\u001b[0;32m    146\u001b[0m )\n\u001b[0;32m    148\u001b[0m \u001b[39mreturn\u001b[39;00m img_bytes\n",
            "File \u001b[1;32mc:\\Users\\Колпаки\\AppData\\Local\\Programs\\Python\\Python310\\lib\\site-packages\\kaleido\\scopes\\plotly.py:103\u001b[0m, in \u001b[0;36mPlotlyScope.transform\u001b[1;34m(self, figure, format, width, height, scale)\u001b[0m\n\u001b[0;32m     92\u001b[0m     \u001b[39mraise\u001b[39;00m \u001b[39mValueError\u001b[39;00m(\n\u001b[0;32m     93\u001b[0m         \u001b[39m\"\u001b[39m\u001b[39mInvalid format \u001b[39m\u001b[39m'\u001b[39m\u001b[39m{original_format}\u001b[39;00m\u001b[39m'\u001b[39m\u001b[39m.\u001b[39m\u001b[39m\\n\u001b[39;00m\u001b[39m\"\u001b[39m\n\u001b[0;32m     94\u001b[0m         \u001b[39m\"\u001b[39m\u001b[39m    Supported formats: \u001b[39m\u001b[39m{supported_formats_str}\u001b[39;00m\u001b[39m\"\u001b[39m\n\u001b[1;32m   (...)\u001b[0m\n\u001b[0;32m     98\u001b[0m         )\n\u001b[0;32m     99\u001b[0m     )\n\u001b[0;32m    101\u001b[0m \u001b[39m# Transform in using _perform_transform rather than superclass so we can access the full\u001b[39;00m\n\u001b[0;32m    102\u001b[0m \u001b[39m# response dict, including error codes.\u001b[39;00m\n\u001b[1;32m--> 103\u001b[0m response \u001b[39m=\u001b[39m \u001b[39mself\u001b[39;49m\u001b[39m.\u001b[39;49m_perform_transform(\n\u001b[0;32m    104\u001b[0m     figure, \u001b[39mformat\u001b[39;49m\u001b[39m=\u001b[39;49m\u001b[39mformat\u001b[39;49m, width\u001b[39m=\u001b[39;49mwidth, height\u001b[39m=\u001b[39;49mheight, scale\u001b[39m=\u001b[39;49mscale\n\u001b[0;32m    105\u001b[0m )\n\u001b[0;32m    107\u001b[0m \u001b[39m# Check for export error, later can customize error messages for plotly Python users\u001b[39;00m\n\u001b[0;32m    108\u001b[0m code \u001b[39m=\u001b[39m response\u001b[39m.\u001b[39mget(\u001b[39m\"\u001b[39m\u001b[39mcode\u001b[39m\u001b[39m\"\u001b[39m, \u001b[39m0\u001b[39m)\n",
            "File \u001b[1;32mc:\\Users\\Колпаки\\AppData\\Local\\Programs\\Python\\Python310\\lib\\site-packages\\kaleido\\scopes\\base.py:287\u001b[0m, in \u001b[0;36mBaseScope._perform_transform\u001b[1;34m(self, data, **kwargs)\u001b[0m\n\u001b[0;32m    278\u001b[0m \u001b[39m\u001b[39m\u001b[39m\"\"\"\u001b[39;00m\n\u001b[0;32m    279\u001b[0m \u001b[39mTransform input data using the current scope, returning dict response with error code\u001b[39;00m\n\u001b[0;32m    280\u001b[0m \u001b[39mwhether successful or not.\u001b[39;00m\n\u001b[1;32m   (...)\u001b[0m\n\u001b[0;32m    284\u001b[0m \u001b[39m:return: Dict of response from Kaleido executable, whether successful or not\u001b[39;00m\n\u001b[0;32m    285\u001b[0m \u001b[39m\"\"\"\u001b[39;00m\n\u001b[0;32m    286\u001b[0m \u001b[39m# Ensure that kaleido subprocess is running\u001b[39;00m\n\u001b[1;32m--> 287\u001b[0m \u001b[39mself\u001b[39;49m\u001b[39m.\u001b[39;49m_ensure_kaleido()\n\u001b[0;32m    289\u001b[0m \u001b[39m# Perform export\u001b[39;00m\n\u001b[0;32m    290\u001b[0m export_spec \u001b[39m=\u001b[39m json\u001b[39m.\u001b[39mdumps(\n\u001b[0;32m    291\u001b[0m     \u001b[39mdict\u001b[39m(kwargs, data\u001b[39m=\u001b[39mdata),\n\u001b[0;32m    292\u001b[0m     \u001b[39mcls\u001b[39m\u001b[39m=\u001b[39m\u001b[39mself\u001b[39m\u001b[39m.\u001b[39m_json_encoder)\u001b[39m.\u001b[39mencode(\u001b[39m'\u001b[39m\u001b[39mutf-8\u001b[39m\u001b[39m'\u001b[39m)\n",
            "File \u001b[1;32mc:\\Users\\Колпаки\\AppData\\Local\\Programs\\Python\\Python310\\lib\\site-packages\\kaleido\\scopes\\base.py:200\u001b[0m, in \u001b[0;36mBaseScope._ensure_kaleido\u001b[1;34m(self)\u001b[0m\n\u001b[0;32m    198\u001b[0m \u001b[39mif\u001b[39;00m startup_response\u001b[39m.\u001b[39mget(\u001b[39m\"\u001b[39m\u001b[39mcode\u001b[39m\u001b[39m\"\u001b[39m, \u001b[39m0\u001b[39m) \u001b[39m!=\u001b[39m \u001b[39m0\u001b[39m:\n\u001b[0;32m    199\u001b[0m     \u001b[39mself\u001b[39m\u001b[39m.\u001b[39m_proc\u001b[39m.\u001b[39mwait()\n\u001b[1;32m--> 200\u001b[0m     \u001b[39mraise\u001b[39;00m \u001b[39mValueError\u001b[39;00m(startup_response\u001b[39m.\u001b[39mget(\u001b[39m\"\u001b[39m\u001b[39mmessage\u001b[39m\u001b[39m\"\u001b[39m, \u001b[39m\"\u001b[39m\u001b[39mFailed to start Kaleido subprocess\u001b[39m\u001b[39m\"\u001b[39m))\n",
            "\u001b[1;31mValueError\u001b[0m: --plotlyjs argument is not a valid URL or file path: "
          ]
        }
      ],
      "source": [
        "# Доп. запрос, чтобы узнать самые высокооплачиваемые сферы деятельности (среди вакансий с указанными зарплатами)\n",
        "# Левым присоединением добавляем к таблице vac - таблицу ind (для этого нужно еще присоединить связующую таблицу em_ind)\n",
        "# Столбец salary вычисляется формулой полученной в запросе 6.6\n",
        "query_addit_2 = '''\n",
        "SELECT\n",
        "    ind.name,\n",
        "    ROUND(AVG((COALESCE(vac.salary_from, vac.salary_to)+COALESCE(vac.salary_to, vac.salary_from)) / 2)) salary\n",
        "FROM\n",
        "    public.vacancies vac\n",
        "    LEFT JOIN public.employers_industries em_ind ON em_ind.employer_id=vac.employer_id\n",
        "    LEFT JOIN public.industries ind ON ind.id=em_ind.industry_id\n",
        "WHERE\n",
        "    (vac.salary_from IS NOT NULL) OR (vac.salary_to IS NOT NULL)\n",
        "GROUP BY 1\n",
        "ORDER BY 2 DESC\n",
        "LIMIT 7\n",
        "'''\n",
        "\n",
        "avg_ind = pd.read_sql_query(query_addit_2, connection)\n",
        "\n",
        "bar_avg_ind = px.bar(\n",
        "    avg_ind,\n",
        "    y='salary',\n",
        "    x='name',\n",
        "    color='name',\n",
        "    text='salary',\n",
        "    height=700,\n",
        "    width=1000,\n",
        "    title='Самые высокооплачиваемые сферы деятельности'\n",
        ")\n",
        "bar_avg_ind.show('png')"
      ]
    },
    {
      "cell_type": "code",
      "execution_count": null,
      "id": "a5253363",
      "metadata": {},
      "outputs": [
        {
          "data": {
            "text/html": [
              "<div>\n",
              "<style scoped>\n",
              "    .dataframe tbody tr th:only-of-type {\n",
              "        vertical-align: middle;\n",
              "    }\n",
              "\n",
              "    .dataframe tbody tr th {\n",
              "        vertical-align: top;\n",
              "    }\n",
              "\n",
              "    .dataframe thead th {\n",
              "        text-align: right;\n",
              "    }\n",
              "</style>\n",
              "<table border=\"1\" class=\"dataframe\">\n",
              "  <thead>\n",
              "    <tr style=\"text-align: right;\">\n",
              "      <th></th>\n",
              "      <th>name</th>\n",
              "      <th>salary</th>\n",
              "    </tr>\n",
              "  </thead>\n",
              "  <tbody>\n",
              "    <tr>\n",
              "      <th>0</th>\n",
              "      <td>Брокер по продаже апартаментов</td>\n",
              "      <td>750000.0</td>\n",
              "    </tr>\n",
              "    <tr>\n",
              "      <th>1</th>\n",
              "      <td>СТО/Директор по разработке</td>\n",
              "      <td>750000.0</td>\n",
              "    </tr>\n",
              "    <tr>\n",
              "      <th>2</th>\n",
              "      <td>FullStack Developer in Unicorn Company</td>\n",
              "      <td>717000.0</td>\n",
              "    </tr>\n",
              "    <tr>\n",
              "      <th>3</th>\n",
              "      <td>Frontend Developer in Unicorn Company</td>\n",
              "      <td>717000.0</td>\n",
              "    </tr>\n",
              "    <tr>\n",
              "      <th>4</th>\n",
              "      <td>1С:Эксперт по производительности 1С</td>\n",
              "      <td>650000.0</td>\n",
              "    </tr>\n",
              "    <tr>\n",
              "      <th>5</th>\n",
              "      <td>Оплачиваемая стажировка в ИТ(не для разработчи...</td>\n",
              "      <td>5301.0</td>\n",
              "    </tr>\n",
              "    <tr>\n",
              "      <th>6</th>\n",
              "      <td>Практикант в HR</td>\n",
              "      <td>5832.0</td>\n",
              "    </tr>\n",
              "    <tr>\n",
              "      <th>7</th>\n",
              "      <td>Контролер технического состояния ТС (Зяневка)</td>\n",
              "      <td>6000.0</td>\n",
              "    </tr>\n",
              "    <tr>\n",
              "      <th>8</th>\n",
              "      <td>Менеджер по выпуску одежды</td>\n",
              "      <td>7323.0</td>\n",
              "    </tr>\n",
              "    <tr>\n",
              "      <th>9</th>\n",
              "      <td>Помощник (ученик) программиста 1С</td>\n",
              "      <td>7323.0</td>\n",
              "    </tr>\n",
              "  </tbody>\n",
              "</table>\n",
              "</div>"
            ],
            "text/plain": [
              "                                                name    salary\n",
              "0                     Брокер по продаже апартаментов  750000.0\n",
              "1                         СТО/Директор по разработке  750000.0\n",
              "2             FullStack Developer in Unicorn Company  717000.0\n",
              "3              Frontend Developer in Unicorn Company  717000.0\n",
              "4                1С:Эксперт по производительности 1С  650000.0\n",
              "5  Оплачиваемая стажировка в ИТ(не для разработчи...    5301.0\n",
              "6                                    Практикант в HR    5832.0\n",
              "7      Контролер технического состояния ТС (Зяневка)    6000.0\n",
              "8                         Менеджер по выпуску одежды    7323.0\n",
              "9                  Помощник (ученик) программиста 1С    7323.0"
            ]
          },
          "execution_count": 77,
          "metadata": {},
          "output_type": "execute_result"
        }
      ],
      "source": [
        "# Доп. запрос, чтобы узнать самые высокооплачиваемые и низкооплачиваемые профессии (среди вакансий с указанными зарплатами)\n",
        "# Вычисляем salary по каждой профессии.\n",
        "# 1 таблицу сортируем по убыванию (5 высокооплачиваемых профессий), 2 - по возрастанию (5 низкооплачиваемых). Объединяем через UNION\n",
        "query_addit_3 = '''\n",
        "(SELECT\n",
        "    DISTINCT name,\n",
        "    ROUND(AVG((COALESCE(salary_from, salary_to)+COALESCE(salary_to, salary_from)) / 2)) salary\n",
        "FROM\n",
        "    public.vacancies\n",
        "WHERE\n",
        "    (salary_from IS NOT NULL) OR (salary_to IS NOT NULL)\n",
        "GROUP BY 1\n",
        "ORDER BY 2 DESC\n",
        "LIMIT 5)\n",
        "UNION ALL\n",
        "(SELECT\n",
        "    DISTINCT name,\n",
        "    ROUND(AVG((COALESCE(salary_from, salary_to)+COALESCE(salary_to, salary_from)) / 2)) salary\n",
        "FROM\n",
        "    public.vacancies\n",
        "WHERE\n",
        "    (salary_from IS NOT NULL) OR (salary_to IS NOT NULL)\n",
        "GROUP BY 1\n",
        "HAVING \n",
        "    ROUND(AVG((COALESCE(salary_from, salary_to)+COALESCE(salary_to, salary_from)) / 2)) > 5000\n",
        "ORDER BY 2 ASC\n",
        "LIMIT 5)\n",
        "'''\n",
        "\n",
        "max_min_vac = pd.read_sql_query(query_addit_3, connection)\n",
        "max_min_vac"
      ]
    },
    {
      "cell_type": "markdown",
      "id": "1178a88d",
      "metadata": {},
      "source": [
        "- Москва с большим отрывом обгоняет остальные города по кол-ву вакансий, что неудивительно, ведь Москва — крупнейший в общероссийском масштабе международный деловой центр.\n",
        "- У половины вакансий отстутствует информация по зарплатной вилке. Многие работодатели, особенно при найме на важные позиции, не указывают зарплату сразу, чтобы обговорить ее индивидуально с будущим сотрудником.\n",
        "- В среднем зарплаты находятся в диапазоне от 71 тыс. до 110 тыс. руб.\n",
        "- Независимо от типа рабочего графика, тип трудоустройства \"Полная занятость\" всегда преобладает по кол-ву вакансий. Очевидно, работодателям нужен полноценный работник.\n",
        "- Наиболее часто ищут \"джунов\" с опытом от 1 года до 3 лет, тогда как наиболее опытных специалистов ищут меньше всего. Компромисс: работодатели ищут людей, которые уже что-то могут и что-то делали, но которые пока не требуют большую зарплату. Низкий спрос на более опытных сотрудников можно объяснить не таким большим кол-вом свободных мест. На такие позиции берут, например, \"тимлидов\", которые и управляют \"джунами\". На одного \"тимлида\" может приходится, к примеру, 10 \"джунов\".\n",
        "- В среднем работодатели указывают около 6 ключевых навыков в вакансиях.\n",
        "- Самой высокооплачиваемой сферой деятельности является \"Агрохимия\" (среди вакансий с указанными зарплатами). Довольно узкоспециализированная, но очень важная сфера, в которой ощущается дефицит кадров, что выливается в хорошие зарплаты.\n",
        "- Самыми высокооплачивыми профессиями являются разработчики, директора и брокеры по продаже аппартаментов. Самыми низкооплачиваемыми позициями являются практиканты и стажеры. Ничего удивительного, ИТ-специалисты и управляющие позиции всегда отличались космическими зарплатами, тогда как \"зеленые\" студенты-практиканты идут работать скорее за опытом и знаниями."
      ]
    },
    {
      "cell_type": "markdown",
      "id": "7ea20ab6-04a7-40a0-adec-443a0e5a42c3",
      "metadata": {
        "id": "7ea20ab6-04a7-40a0-adec-443a0e5a42c3"
      },
      "source": [
        "# Юнит 5. Анализ работодателей"
      ]
    },
    {
      "cell_type": "markdown",
      "id": "968aed80-74ef-4ffb-b5bf-c65b84e9caea",
      "metadata": {
        "id": "968aed80-74ef-4ffb-b5bf-c65b84e9caea"
      },
      "source": [
        "1. Напишите запрос, который позволит узнать, какие работодатели находятся на первом и пятом месте по количеству вакансий."
      ]
    },
    {
      "cell_type": "code",
      "execution_count": null,
      "id": "f2d62796-d400-4ec1-a675-88112739a50e",
      "metadata": {
        "id": "f2d62796-d400-4ec1-a675-88112739a50e"
      },
      "outputs": [],
      "source": [
        "query_5_1 = '''\n",
        "SELECT \n",
        "    em.name,\n",
        "    COUNT(vac.id) cnt\n",
        "FROM\n",
        "    public.vacancies vac\n",
        "    LEFT JOIN public.employers em ON vac.employer_id=em.id\n",
        "GROUP BY em.name\n",
        "ORDER BY cnt DESC\n",
        "LIMIT 5\n",
        "'''"
      ]
    },
    {
      "cell_type": "code",
      "execution_count": null,
      "id": "64tOMkAxqkQk",
      "metadata": {
        "id": "64tOMkAxqkQk"
      },
      "outputs": [
        {
          "data": {
            "text/html": [
              "<div>\n",
              "<style scoped>\n",
              "    .dataframe tbody tr th:only-of-type {\n",
              "        vertical-align: middle;\n",
              "    }\n",
              "\n",
              "    .dataframe tbody tr th {\n",
              "        vertical-align: top;\n",
              "    }\n",
              "\n",
              "    .dataframe thead th {\n",
              "        text-align: right;\n",
              "    }\n",
              "</style>\n",
              "<table border=\"1\" class=\"dataframe\">\n",
              "  <thead>\n",
              "    <tr style=\"text-align: right;\">\n",
              "      <th></th>\n",
              "      <th>name</th>\n",
              "      <th>cnt</th>\n",
              "    </tr>\n",
              "  </thead>\n",
              "  <tbody>\n",
              "    <tr>\n",
              "      <th>0</th>\n",
              "      <td>Яндекс</td>\n",
              "      <td>1933</td>\n",
              "    </tr>\n",
              "    <tr>\n",
              "      <th>1</th>\n",
              "      <td>Ростелеком</td>\n",
              "      <td>491</td>\n",
              "    </tr>\n",
              "    <tr>\n",
              "      <th>2</th>\n",
              "      <td>Тинькофф</td>\n",
              "      <td>444</td>\n",
              "    </tr>\n",
              "    <tr>\n",
              "      <th>3</th>\n",
              "      <td>СБЕР</td>\n",
              "      <td>428</td>\n",
              "    </tr>\n",
              "    <tr>\n",
              "      <th>4</th>\n",
              "      <td>Газпром нефть</td>\n",
              "      <td>331</td>\n",
              "    </tr>\n",
              "  </tbody>\n",
              "</table>\n",
              "</div>"
            ],
            "text/plain": [
              "            name   cnt\n",
              "0         Яндекс  1933\n",
              "1     Ростелеком   491\n",
              "2       Тинькофф   444\n",
              "3           СБЕР   428\n",
              "4  Газпром нефть   331"
            ]
          },
          "execution_count": 79,
          "metadata": {},
          "output_type": "execute_result"
        }
      ],
      "source": [
        "cnt_emp = pd.read_sql_query(query_5_1, connection)\n",
        "cnt_emp"
      ]
    },
    {
      "cell_type": "markdown",
      "id": "68377cfc-b378-43dc-ab7d-1195abf2c515",
      "metadata": {
        "id": "68377cfc-b378-43dc-ab7d-1195abf2c515"
      },
      "source": [
        "2. Напишите запрос, который для каждого региона выведет количество работодателей и вакансий в нём.\n",
        "Среди регионов, в которых нет вакансий, найдите тот, в котором наибольшее количество работодателей.\n"
      ]
    },
    {
      "cell_type": "code",
      "execution_count": null,
      "id": "dd7df27a-e3e8-412e-a21a-5d389b71e891",
      "metadata": {
        "id": "dd7df27a-e3e8-412e-a21a-5d389b71e891"
      },
      "outputs": [],
      "source": [
        "# Areas присоединяем через FULL, чтобы мы владели информацией о регионах, которые не попали в вакансии.\n",
        "# Затем для каждого региона присоединяем информацию о работодателях (LEFT JOIN).\n",
        "# Кол-во вакансий сортируем по возрастанию, кол-во работодателей - по убыванию. 1 позиция - наш регион.\n",
        "query_5_2 = '''\n",
        "SELECT \n",
        "    ar.name,\n",
        "    COUNT(vac.id) count_vacancies,\n",
        "    COUNT(em.id) count_employers\n",
        "FROM\n",
        "    public.vacancies vac\n",
        "    FULL JOIN public.areas ar ON vac.area_id=ar.id\n",
        "    LEFT JOIN public.employers em ON ar.id=em.area\n",
        "GROUP BY ar.name\n",
        "ORDER BY count_vacancies, count_employers DESC\n",
        "LIMIT 1\n",
        "'''"
      ]
    },
    {
      "cell_type": "code",
      "execution_count": null,
      "id": "x1ikWbydrbf6",
      "metadata": {
        "id": "x1ikWbydrbf6"
      },
      "outputs": [
        {
          "data": {
            "text/plain": [
              "'Россия'"
            ]
          },
          "execution_count": 81,
          "metadata": {},
          "output_type": "execute_result"
        }
      ],
      "source": [
        "area_unemployed = pd.read_sql_query(query_5_2, connection)\n",
        "area_unemployed['name'][0]"
      ]
    },
    {
      "cell_type": "markdown",
      "id": "f2fe0acb-ab1a-4e15-9326-2560e22d73c1",
      "metadata": {
        "id": "f2fe0acb-ab1a-4e15-9326-2560e22d73c1"
      },
      "source": [
        "3. Для каждого работодателя посчитайте количество регионов, в которых он публикует свои вакансии. Отсортируйте результат по убыванию количества.\n"
      ]
    },
    {
      "cell_type": "code",
      "execution_count": null,
      "id": "6271f8ad-bd2e-4196-ae4a-5b39c4c1010e",
      "metadata": {
        "id": "6271f8ad-bd2e-4196-ae4a-5b39c4c1010e"
      },
      "outputs": [],
      "source": [
        "# Используем COUNT(DISTINCT), чтобы подсчитать кол-во именно уникальных регионов (т.к. мы присоединили все таблицы к vac, а не ar)\n",
        "query_5_3 = '''\n",
        "SELECT \n",
        "    em.name,\n",
        "    COUNT(DISTINCT ar.name) count_areas\n",
        "FROM\n",
        "    public.vacancies vac\n",
        "    LEFT JOIN public.areas ar ON vac.area_id=ar.id\n",
        "    LEFT JOIN public.employers em ON vac.employer_id=em.id\n",
        "GROUP BY em.name\n",
        "ORDER BY count_areas DESC\n",
        "LIMIT 5\n",
        "'''"
      ]
    },
    {
      "cell_type": "code",
      "execution_count": null,
      "id": "1EIvX3HasH4F",
      "metadata": {
        "id": "1EIvX3HasH4F"
      },
      "outputs": [
        {
          "data": {
            "text/html": [
              "<div>\n",
              "<style scoped>\n",
              "    .dataframe tbody tr th:only-of-type {\n",
              "        vertical-align: middle;\n",
              "    }\n",
              "\n",
              "    .dataframe tbody tr th {\n",
              "        vertical-align: top;\n",
              "    }\n",
              "\n",
              "    .dataframe thead th {\n",
              "        text-align: right;\n",
              "    }\n",
              "</style>\n",
              "<table border=\"1\" class=\"dataframe\">\n",
              "  <thead>\n",
              "    <tr style=\"text-align: right;\">\n",
              "      <th></th>\n",
              "      <th>name</th>\n",
              "      <th>count_areas</th>\n",
              "    </tr>\n",
              "  </thead>\n",
              "  <tbody>\n",
              "    <tr>\n",
              "      <th>0</th>\n",
              "      <td>Яндекс</td>\n",
              "      <td>181</td>\n",
              "    </tr>\n",
              "    <tr>\n",
              "      <th>1</th>\n",
              "      <td>Ростелеком</td>\n",
              "      <td>152</td>\n",
              "    </tr>\n",
              "    <tr>\n",
              "      <th>2</th>\n",
              "      <td>Спецремонт</td>\n",
              "      <td>116</td>\n",
              "    </tr>\n",
              "    <tr>\n",
              "      <th>3</th>\n",
              "      <td>Поляков Денис Иванович</td>\n",
              "      <td>88</td>\n",
              "    </tr>\n",
              "    <tr>\n",
              "      <th>4</th>\n",
              "      <td>ООО ЕФИН</td>\n",
              "      <td>71</td>\n",
              "    </tr>\n",
              "  </tbody>\n",
              "</table>\n",
              "</div>"
            ],
            "text/plain": [
              "                     name  count_areas\n",
              "0                  Яндекс          181\n",
              "1              Ростелеком          152\n",
              "2              Спецремонт          116\n",
              "3  Поляков Денис Иванович           88\n",
              "4               ООО ЕФИН            71"
            ]
          },
          "execution_count": 83,
          "metadata": {},
          "output_type": "execute_result"
        }
      ],
      "source": [
        "emp_by_area = pd.read_sql_query(query_5_3, connection)\n",
        "emp_by_area"
      ]
    },
    {
      "cell_type": "markdown",
      "id": "eab2206d-d95b-468b-8e5f-34381abf0ce7",
      "metadata": {
        "id": "eab2206d-d95b-468b-8e5f-34381abf0ce7"
      },
      "source": [
        "4. Напишите запрос для подсчёта количества работодателей, у которых не указана сфера деятельности. "
      ]
    },
    {
      "cell_type": "code",
      "execution_count": null,
      "id": "80defb23-bfb1-4a18-8be6-bf36aa7165d5",
      "metadata": {
        "id": "80defb23-bfb1-4a18-8be6-bf36aa7165d5"
      },
      "outputs": [],
      "source": [
        "# Считаем только тех работодателей, которые не указаны в связующей таблице em_in\n",
        "query_5_4 = '''\n",
        "SELECT \n",
        "    COUNT(*)\n",
        "FROM\n",
        "    public.employers em\n",
        "    LEFT JOIN public.employers_industries em_in ON em.id=em_in.employer_id\n",
        "WHERE em_in.employer_id IS NULL\n",
        "'''"
      ]
    },
    {
      "cell_type": "code",
      "execution_count": null,
      "id": "Dp_yCx6ysQSu",
      "metadata": {
        "id": "Dp_yCx6ysQSu"
      },
      "outputs": [
        {
          "data": {
            "text/plain": [
              "8419"
            ]
          },
          "execution_count": 85,
          "metadata": {},
          "output_type": "execute_result"
        }
      ],
      "source": [
        "emp_no_ind = pd.read_sql_query(query_5_4, connection)\n",
        "emp_no_ind['count'][0]"
      ]
    },
    {
      "cell_type": "markdown",
      "id": "0112af31-f6b0-4e3b-82ab-71296e752e5e",
      "metadata": {
        "id": "0112af31-f6b0-4e3b-82ab-71296e752e5e"
      },
      "source": [
        "5. Напишите запрос, чтобы узнать название компании, находящейся на третьем месте в алфавитном списке (по названию) компаний, у которых указано четыре сферы деятельности. "
      ]
    },
    {
      "cell_type": "code",
      "execution_count": null,
      "id": "973b0cfc-a972-470a-8b4a-68744ef220c4",
      "metadata": {
        "id": "973b0cfc-a972-470a-8b4a-68744ef220c4"
      },
      "outputs": [],
      "source": [
        "# Считаем тех работодателей, у которых есть ровно 4 записи в связующей таблице em_in\n",
        "query_5_5 = '''\n",
        "SELECT \n",
        "    em.name\n",
        "FROM\n",
        "    public.employers em\n",
        "    LEFT JOIN public.employers_industries em_in ON em.id=em_in.employer_id\n",
        "GROUP BY em.name\n",
        "HAVING COUNT(em_in.industry_id) = 4\n",
        "ORDER BY em.name\n",
        "OFFSET 2\n",
        "LIMIT 1\n",
        "'''"
      ]
    },
    {
      "cell_type": "code",
      "execution_count": null,
      "id": "xsPtpp8EsaED",
      "metadata": {
        "id": "xsPtpp8EsaED"
      },
      "outputs": [
        {
          "data": {
            "text/plain": [
              "'2ГИС'"
            ]
          },
          "execution_count": 87,
          "metadata": {},
          "output_type": "execute_result"
        }
      ],
      "source": [
        "emp_with_ind = pd.read_sql_query(query_5_5, connection)\n",
        "emp_with_ind['name'][0]"
      ]
    },
    {
      "cell_type": "markdown",
      "id": "3bfcfdaf-755d-4d2b-8ed8-326201dc07ab",
      "metadata": {
        "id": "3bfcfdaf-755d-4d2b-8ed8-326201dc07ab"
      },
      "source": [
        "6. С помощью запроса выясните, у какого количества работодателей в качестве сферы деятельности указана Разработка программного обеспечения.\n"
      ]
    },
    {
      "cell_type": "code",
      "execution_count": null,
      "id": "ad3f270f-2991-47eb-929b-e8f88a55b0d1",
      "metadata": {
        "id": "ad3f270f-2991-47eb-929b-e8f88a55b0d1"
      },
      "outputs": [],
      "source": [
        "query_5_6 = '''\n",
        "SELECT \n",
        "    COUNT(*)\n",
        "FROM\n",
        "    public.employers em\n",
        "    LEFT JOIN public.employers_industries em_in ON em.id=em_in.employer_id\n",
        "    LEFT JOIN public.industries ind ON ind.id=em_in.industry_id\n",
        "WHERE ind.name = 'Разработка программного обеспечения'\n",
        "'''"
      ]
    },
    {
      "cell_type": "code",
      "execution_count": null,
      "id": "H72qxWM0shPR",
      "metadata": {
        "id": "H72qxWM0shPR"
      },
      "outputs": [
        {
          "data": {
            "text/plain": [
              "3553"
            ]
          },
          "execution_count": 89,
          "metadata": {},
          "output_type": "execute_result"
        }
      ],
      "source": [
        "emp_develop = pd.read_sql_query(query_5_6, connection)\n",
        "emp_develop['count'][0]"
      ]
    },
    {
      "cell_type": "markdown",
      "id": "7b02bb86-0546-40fb-94a4-242f050a5c57",
      "metadata": {
        "id": "7b02bb86-0546-40fb-94a4-242f050a5c57"
      },
      "source": [
        "7. Для компании «Яндекс» выведите список регионов-миллионников, в которых представлены вакансии компании, вместе с количеством вакансий в этих регионах. Также добавьте строку Total с общим количеством вакансий компании. Результат отсортируйте по возрастанию количества.\n",
        "\n",
        "Список городов-милионников надо взять [отсюда](https://ru.wikipedia.org/wiki/%D0%93%D0%BE%D1%80%D0%BE%D0%B4%D0%B0-%D0%BC%D0%B8%D0%BB%D0%BB%D0%B8%D0%BE%D0%BD%D0%B5%D1%80%D1%8B_%D0%A0%D0%BE%D1%81%D1%81%D0%B8%D0%B8). \n",
        "\n",
        "Если возникнут трудности с этим задание посмотрите материалы модуля  PYTHON-17. Как получать данные из веб-источников и API. "
      ]
    },
    {
      "cell_type": "code",
      "execution_count": null,
      "id": "ZdfrL6gIs1Pn",
      "metadata": {
        "id": "ZdfrL6gIs1Pn"
      },
      "outputs": [],
      "source": [
        "# Цикл проходится по каждой строке таблицы (стартуем со второй строки, т.к. первая - загаловки столбцов)\n",
        "# Добавляем названия городов в список million_cities до тех пор, пока цикл не встречает город Волгоград (он последний в нашей таблице)\n",
        "# С помощью try-except захватываем любые ошибки, т.к. иногда код ругается на пустые значения\n",
        "import requests\n",
        "from bs4 import BeautifulSoup\n",
        "\n",
        "url = 'https://ru.wikipedia.org/wiki/Города-миллионеры_России'\n",
        "response = requests.get(url)\n",
        "page = BeautifulSoup(response.text, 'html.parser')\n",
        "\n",
        "million_cities = []\n",
        "\n",
        "for row in page.find_all('tr')[1:]:\n",
        "    try:\n",
        "        city = row.find_all('td')[1].find('a').text\n",
        "        million_cities.append(city)\n",
        "        if city == 'Волгоград':\n",
        "            break\n",
        "    except Exception:\n",
        "        continue"
      ]
    },
    {
      "cell_type": "code",
      "execution_count": null,
      "id": "5a0e32a4-e68a-4365-8a39-2fe24c542c36",
      "metadata": {
        "id": "5a0e32a4-e68a-4365-8a39-2fe24c542c36"
      },
      "outputs": [],
      "source": [
        "# Сначала создаем подзапрос, чтобы затем использовать результат в 1 и 2 таблице UNION\n",
        "# Считаем кол-во вакансий Яндекса для каждого уникального региона, который содержится в нашем списке million_cities\n",
        "# Присоединяем с помощью UNION суммированный столбец cnt\n",
        "query_5_7 = f'''\n",
        "with yandex as (SELECT \n",
        "    DISTINCT ar.name,\n",
        "    COUNT(vac.id) cnt\n",
        "FROM\n",
        "    public.vacancies vac\n",
        "    LEFT JOIN public.employers em ON em.id=vac.employer_id\n",
        "    LEFT JOIN public.areas ar ON ar.id=vac.area_id\n",
        "WHERE \n",
        "    (em.name = 'Яндекс') AND (ar.name IN {tuple(million_cities)})\n",
        "GROUP BY 1\n",
        "ORDER BY 2)\n",
        "SELECT \n",
        "    name,\n",
        "    cnt\n",
        "FROM yandex\n",
        "UNION ALL\n",
        "SELECT\n",
        "    'Total',\n",
        "    SUM(cnt)\n",
        "FROM yandex\n",
        "'''"
      ]
    },
    {
      "cell_type": "code",
      "execution_count": null,
      "id": "ttPhiO1rsvPq",
      "metadata": {
        "id": "ttPhiO1rsvPq"
      },
      "outputs": [
        {
          "data": {
            "text/html": [
              "<div>\n",
              "<style scoped>\n",
              "    .dataframe tbody tr th:only-of-type {\n",
              "        vertical-align: middle;\n",
              "    }\n",
              "\n",
              "    .dataframe tbody tr th {\n",
              "        vertical-align: top;\n",
              "    }\n",
              "\n",
              "    .dataframe thead th {\n",
              "        text-align: right;\n",
              "    }\n",
              "</style>\n",
              "<table border=\"1\" class=\"dataframe\">\n",
              "  <thead>\n",
              "    <tr style=\"text-align: right;\">\n",
              "      <th></th>\n",
              "      <th>name</th>\n",
              "      <th>cnt</th>\n",
              "    </tr>\n",
              "  </thead>\n",
              "  <tbody>\n",
              "    <tr>\n",
              "      <th>0</th>\n",
              "      <td>Омск</td>\n",
              "      <td>21.0</td>\n",
              "    </tr>\n",
              "    <tr>\n",
              "      <th>1</th>\n",
              "      <td>Челябинск</td>\n",
              "      <td>22.0</td>\n",
              "    </tr>\n",
              "    <tr>\n",
              "      <th>2</th>\n",
              "      <td>Красноярск</td>\n",
              "      <td>23.0</td>\n",
              "    </tr>\n",
              "    <tr>\n",
              "      <th>3</th>\n",
              "      <td>Волгоград</td>\n",
              "      <td>24.0</td>\n",
              "    </tr>\n",
              "    <tr>\n",
              "      <th>4</th>\n",
              "      <td>Казань</td>\n",
              "      <td>25.0</td>\n",
              "    </tr>\n",
              "    <tr>\n",
              "      <th>5</th>\n",
              "      <td>Пермь</td>\n",
              "      <td>25.0</td>\n",
              "    </tr>\n",
              "    <tr>\n",
              "      <th>6</th>\n",
              "      <td>Ростов-на-Дону</td>\n",
              "      <td>25.0</td>\n",
              "    </tr>\n",
              "    <tr>\n",
              "      <th>7</th>\n",
              "      <td>Самара</td>\n",
              "      <td>26.0</td>\n",
              "    </tr>\n",
              "    <tr>\n",
              "      <th>8</th>\n",
              "      <td>Уфа</td>\n",
              "      <td>26.0</td>\n",
              "    </tr>\n",
              "    <tr>\n",
              "      <th>9</th>\n",
              "      <td>Краснодар</td>\n",
              "      <td>30.0</td>\n",
              "    </tr>\n",
              "    <tr>\n",
              "      <th>10</th>\n",
              "      <td>Воронеж</td>\n",
              "      <td>32.0</td>\n",
              "    </tr>\n",
              "    <tr>\n",
              "      <th>11</th>\n",
              "      <td>Новосибирск</td>\n",
              "      <td>35.0</td>\n",
              "    </tr>\n",
              "    <tr>\n",
              "      <th>12</th>\n",
              "      <td>Нижний Новгород</td>\n",
              "      <td>36.0</td>\n",
              "    </tr>\n",
              "    <tr>\n",
              "      <th>13</th>\n",
              "      <td>Екатеринбург</td>\n",
              "      <td>39.0</td>\n",
              "    </tr>\n",
              "    <tr>\n",
              "      <th>14</th>\n",
              "      <td>Санкт-Петербург</td>\n",
              "      <td>42.0</td>\n",
              "    </tr>\n",
              "    <tr>\n",
              "      <th>15</th>\n",
              "      <td>Москва</td>\n",
              "      <td>54.0</td>\n",
              "    </tr>\n",
              "    <tr>\n",
              "      <th>16</th>\n",
              "      <td>Total</td>\n",
              "      <td>485.0</td>\n",
              "    </tr>\n",
              "  </tbody>\n",
              "</table>\n",
              "</div>"
            ],
            "text/plain": [
              "               name    cnt\n",
              "0              Омск   21.0\n",
              "1         Челябинск   22.0\n",
              "2        Красноярск   23.0\n",
              "3         Волгоград   24.0\n",
              "4            Казань   25.0\n",
              "5             Пермь   25.0\n",
              "6    Ростов-на-Дону   25.0\n",
              "7            Самара   26.0\n",
              "8               Уфа   26.0\n",
              "9         Краснодар   30.0\n",
              "10          Воронеж   32.0\n",
              "11      Новосибирск   35.0\n",
              "12  Нижний Новгород   36.0\n",
              "13     Екатеринбург   39.0\n",
              "14  Санкт-Петербург   42.0\n",
              "15           Москва   54.0\n",
              "16            Total  485.0"
            ]
          },
          "execution_count": 92,
          "metadata": {},
          "output_type": "execute_result"
        }
      ],
      "source": [
        "emp_develop = pd.read_sql_query(query_5_7, connection)\n",
        "emp_develop"
      ]
    },
    {
      "cell_type": "markdown",
      "id": "04966e40-3bc3-4dc8-9ba2-e80580ce3abc",
      "metadata": {
        "id": "04966e40-3bc3-4dc8-9ba2-e80580ce3abc"
      },
      "source": [
        "***"
      ]
    },
    {
      "cell_type": "code",
      "execution_count": null,
      "id": "560b0d9f",
      "metadata": {},
      "outputs": [
        {
          "data": {
            "text/html": [
              "<div>\n",
              "<style scoped>\n",
              "    .dataframe tbody tr th:only-of-type {\n",
              "        vertical-align: middle;\n",
              "    }\n",
              "\n",
              "    .dataframe tbody tr th {\n",
              "        vertical-align: top;\n",
              "    }\n",
              "\n",
              "    .dataframe thead th {\n",
              "        text-align: right;\n",
              "    }\n",
              "</style>\n",
              "<table border=\"1\" class=\"dataframe\">\n",
              "  <thead>\n",
              "    <tr style=\"text-align: right;\">\n",
              "      <th></th>\n",
              "      <th>name</th>\n",
              "      <th>Кол-во требуемых навыков</th>\n",
              "    </tr>\n",
              "  </thead>\n",
              "  <tbody>\n",
              "    <tr>\n",
              "      <th>0</th>\n",
              "      <td>Совкомбанк Технологии</td>\n",
              "      <td>5.24</td>\n",
              "    </tr>\n",
              "    <tr>\n",
              "      <th>1</th>\n",
              "      <td>Ростелеком</td>\n",
              "      <td>5.08</td>\n",
              "    </tr>\n",
              "    <tr>\n",
              "      <th>2</th>\n",
              "      <td>Газпром нефть</td>\n",
              "      <td>5.08</td>\n",
              "    </tr>\n",
              "    <tr>\n",
              "      <th>3</th>\n",
              "      <td>МТС</td>\n",
              "      <td>4.83</td>\n",
              "    </tr>\n",
              "    <tr>\n",
              "      <th>4</th>\n",
              "      <td>DataArt</td>\n",
              "      <td>4.64</td>\n",
              "    </tr>\n",
              "    <tr>\n",
              "      <th>5</th>\n",
              "      <td>Тинькофф</td>\n",
              "      <td>4.33</td>\n",
              "    </tr>\n",
              "    <tr>\n",
              "      <th>6</th>\n",
              "      <td>ИК СИБИНТЕК</td>\n",
              "      <td>3.26</td>\n",
              "    </tr>\n",
              "    <tr>\n",
              "      <th>7</th>\n",
              "      <td>СБЕР</td>\n",
              "      <td>2.89</td>\n",
              "    </tr>\n",
              "    <tr>\n",
              "      <th>8</th>\n",
              "      <td>Яндекс</td>\n",
              "      <td>0.35</td>\n",
              "    </tr>\n",
              "  </tbody>\n",
              "</table>\n",
              "</div>"
            ],
            "text/plain": [
              "                    name  Кол-во требуемых навыков\n",
              "0  Совкомбанк Технологии                      5.24\n",
              "1             Ростелеком                      5.08\n",
              "2          Газпром нефть                      5.08\n",
              "3                    МТС                      4.83\n",
              "4                DataArt                      4.64\n",
              "5               Тинькофф                      4.33\n",
              "6            ИК СИБИНТЕК                      3.26\n",
              "7                   СБЕР                      2.89\n",
              "8                 Яндекс                      0.35"
            ]
          },
          "execution_count": 93,
          "metadata": {},
          "output_type": "execute_result"
        }
      ],
      "source": [
        "# Доп. запрос, чтобы узнать самых \"требовательных\" крыпных работодателей, которые разместили 200 и более вакансий\n",
        "# Немного модифицируем формулу, полученную в запросе 6.5\n",
        "# Т.к. в key_skills могут быть пропуски, для таких случаев преобразуем нашу формулу так, чтобы она давала 0 (0-1+1=0)\n",
        "query_addit_4 = '''\n",
        "SELECT\n",
        "    em.name,\n",
        "    ROUND(AVG(length(coalesce(vac.key_skills, ''))-length(replace(coalesce(vac.key_skills, '1\\t'), '\\t', '')) + 1), 2) \"Кол-во требуемых навыков\"\n",
        "FROM\n",
        "    public.vacancies vac\n",
        "    LEFT JOIN public.employers em ON em.id=vac.employer_id\n",
        "GROUP BY 1\n",
        "HAVING\n",
        "    COUNT(vac.id) >= 200\n",
        "ORDER BY 2 DESC\n",
        "'''\n",
        "\n",
        "ks_by_emp = pd.read_sql_query(query_addit_4, connection)\n",
        "ks_by_emp"
      ]
    },
    {
      "cell_type": "code",
      "execution_count": null,
      "id": "b1556526",
      "metadata": {},
      "outputs": [
        {
          "data": {
            "text/plain": [
              "13182"
            ]
          },
          "execution_count": 94,
          "metadata": {},
          "output_type": "execute_result"
        }
      ],
      "source": [
        "# Доп. запрос для подсчета кол-ва работодателей, которым требуются люди с опытом\n",
        "query_addit_5 = '''\n",
        "SELECT \n",
        "    COUNT(DISTINCT em.name)\n",
        "FROM\n",
        "    public.vacancies vac\n",
        "    LEFT JOIN public.employers em ON vac.employer_id=em.id\n",
        "WHERE\n",
        "    vac.experience != 'Нет опыта'\n",
        "ORDER BY 1\n",
        "LIMIT 5\n",
        "'''\n",
        "\n",
        "cnt_unjun_emp = pd.read_sql_query(query_addit_5, connection)\n",
        "cnt_unjun_emp['count'][0]"
      ]
    },
    {
      "cell_type": "markdown",
      "id": "b0572b8b",
      "metadata": {},
      "source": [
        "- \"Яндекс\" бесспорный лидер по кол-ву размещенных вакансий. \"Яндекс\" одна из крупнейших IT-компаний в России, которая развивает сразу несколько бизнес-направлений: портальные сервисы, электронная коммерция, сервисы онлайн-заказа такси и заказа еды и т.д. На все эти направления требуется огромное кол-во сотрудников, чем и обуславливается огромное кол-во размещенных вакансий.\n",
        "- В справочнике о регионах имеются записи о целых странах, но работодатели не выставляют такой регион вакансии даже если работа удаленная. Работодателям важно, чтобы сотрудник находился в относительной близости от какого-нибудь головного офиса компании.\n",
        "- Треть работодателей не указывают сферу деятельности. Это именно та проблема, с которой hh.ru нужно бороться, ибо указание сферы деятельности упрощает поиск нужных вакансий соискателям.\n",
        "- Почти половина тех, кто указывает, имеют сферу деятельности \"Разработка ПО\". В век информационных технологий разработчики - одна из самых ценных профессий, которая будет только набирать популярность.\n",
        "- Лидером по кол-ву требуемых навыков среди крупных работодателей является Совкомбанк Технологии.\n",
        "- Большая половина работодателей не ищут людей без опыта. Работодателям нужен работник с каким-либо опытом работы в своей сфере."
      ]
    },
    {
      "cell_type": "markdown",
      "id": "b1ef156a-efcb-49ce-bb23-90763e7f35b2",
      "metadata": {
        "id": "b1ef156a-efcb-49ce-bb23-90763e7f35b2",
        "tags": []
      },
      "source": [
        "# Юнит 6. Предметный анализ"
      ]
    },
    {
      "cell_type": "markdown",
      "id": "b9cd50a0-992d-4988-8463-2b2b1c4629b4",
      "metadata": {
        "id": "b9cd50a0-992d-4988-8463-2b2b1c4629b4"
      },
      "source": [
        "1. Сколько вакансий имеет отношение к данным?\n",
        "\n",
        "Считаем, что вакансия имеет отношение к данным, если в её названии содержатся слова 'data' или 'данн'.\n",
        "\n",
        "*Подсказка: Обратите внимание, что названия вакансий могут быть написаны в любом регистре.* \n"
      ]
    },
    {
      "cell_type": "code",
      "execution_count": null,
      "id": "54ab0e50-c0f1-47cc-a54b-bc5c8bc363f9",
      "metadata": {
        "id": "54ab0e50-c0f1-47cc-a54b-bc5c8bc363f9"
      },
      "outputs": [],
      "source": [
        "query_6_1 = '''\n",
        "SELECT\n",
        "    COUNT(*)\n",
        "FROM\n",
        "    public.vacancies\n",
        "WHERE\n",
        "    (lower(name) LIKE '%data%') OR (lower(name) LIKE '%данн%')\n",
        "'''"
      ]
    },
    {
      "cell_type": "code",
      "execution_count": null,
      "id": "9F1meAqsuUjd",
      "metadata": {
        "id": "9F1meAqsuUjd"
      },
      "outputs": [
        {
          "data": {
            "text/plain": [
              "1771"
            ]
          },
          "execution_count": 96,
          "metadata": {},
          "output_type": "execute_result"
        }
      ],
      "source": [
        "count_vac_ds = pd.read_sql_query(query_6_1, connection)\n",
        "count_vac_ds['count'][0]"
      ]
    },
    {
      "cell_type": "markdown",
      "id": "4dea20cb-a36b-474a-a0b9-e08e8e3857a5",
      "metadata": {
        "id": "4dea20cb-a36b-474a-a0b9-e08e8e3857a5"
      },
      "source": [
        "2. Сколько есть подходящих вакансий для начинающего дата-сайентиста? \n",
        "Будем считать вакансиями для дата-сайентистов такие, в названии которых есть хотя бы одно из следующих сочетаний:\n",
        "* 'data scientist'\n",
        "* 'data science'\n",
        "* 'исследователь данных'\n",
        "* 'ML' (здесь не нужно брать вакансии по HTML)\n",
        "* 'machine learning'\n",
        "* 'машинн%обучен%'\n",
        "\n",
        "** В следующих заданиях мы продолжим работать с вакансиями по этому условию.*\n",
        "\n",
        "Считаем вакансиями для специалистов уровня Junior следующие:\n",
        "* в названии есть слово 'junior' *или*\n",
        "* требуемый опыт — Нет опыта *или*\n",
        "* тип трудоустройства — Стажировка.\n",
        " "
      ]
    },
    {
      "cell_type": "code",
      "execution_count": null,
      "id": "9c61b3c0-bb66-46c9-ae1e-81d3f5752b4a",
      "metadata": {
        "id": "9c61b3c0-bb66-46c9-ae1e-81d3f5752b4a"
      },
      "outputs": [],
      "source": [
        "query_6_2 = '''\n",
        "SELECT\n",
        "    COUNT(*)\n",
        "FROM\n",
        "    public.vacancies\n",
        "WHERE\n",
        "    ((lower(name) LIKE '%data scientist%')\n",
        "    OR (lower(name) LIKE '%data science%')\n",
        "    OR (lower(name) LIKE '%исследователь данных%')\n",
        "    OR ((name LIKE '%ML%') AND (name NOT LIKE '%HTML%'))\n",
        "    OR (lower(name) LIKE '%machine learning%')\n",
        "    OR (lower(name) LIKE '%машинн%обучен%'))\n",
        "    AND\n",
        "    ((lower(name) LIKE '%junior%')\n",
        "    OR (experience = 'Нет опыта')\n",
        "    OR (employment = 'Стажировка'))\n",
        "'''"
      ]
    },
    {
      "cell_type": "code",
      "execution_count": null,
      "id": "ZNM-LLYuu1dj",
      "metadata": {
        "id": "ZNM-LLYuu1dj"
      },
      "outputs": [
        {
          "data": {
            "text/plain": [
              "51"
            ]
          },
          "execution_count": 98,
          "metadata": {},
          "output_type": "execute_result"
        }
      ],
      "source": [
        "count_vac_jds = pd.read_sql_query(query_6_2, connection)\n",
        "count_vac_jds['count'][0]"
      ]
    },
    {
      "cell_type": "markdown",
      "id": "eedceb80-c5ca-480e-b27a-278dfb8b4438",
      "metadata": {
        "id": "eedceb80-c5ca-480e-b27a-278dfb8b4438"
      },
      "source": [
        "3. Сколько есть вакансий для DS, в которых в качестве ключевого навыка указан SQL или postgres?\n",
        "\n",
        "** Критерии для отнесения вакансии к DS указаны в предыдущем задании.*"
      ]
    },
    {
      "cell_type": "code",
      "execution_count": null,
      "id": "69621713-0cc5-4f1b-a1d7-bb144fa6148c",
      "metadata": {
        "id": "69621713-0cc5-4f1b-a1d7-bb144fa6148c"
      },
      "outputs": [],
      "source": [
        "query_6_3 = '''\n",
        "SELECT\n",
        "    COUNT(*)\n",
        "FROM\n",
        "    public.vacancies\n",
        "WHERE\n",
        "    ((lower(name) LIKE '%data scientist%')\n",
        "    OR (lower(name) LIKE '%data science%')\n",
        "    OR (lower(name) LIKE '%исследователь данных%')\n",
        "    OR ((name LIKE '%ML%') AND (name NOT LIKE '%HTML%'))\n",
        "    OR (lower(name) LIKE '%machine learning%')\n",
        "    OR (lower(name) LIKE '%машинн%обучен%'))\n",
        "    AND\n",
        "    ((lower(key_skills) LIKE '%sql%')\n",
        "    OR (lower(key_skills) LIKE '%postgres%'))\n",
        "'''"
      ]
    },
    {
      "cell_type": "code",
      "execution_count": null,
      "id": "alA8WEAAvGdf",
      "metadata": {
        "id": "alA8WEAAvGdf"
      },
      "outputs": [
        {
          "data": {
            "text/plain": [
              "201"
            ]
          },
          "execution_count": 100,
          "metadata": {},
          "output_type": "execute_result"
        }
      ],
      "source": [
        "count_vac_sql = pd.read_sql_query(query_6_3, connection)\n",
        "count_vac_sql['count'][0]"
      ]
    },
    {
      "cell_type": "markdown",
      "id": "1be1e9c6-37cf-4a5f-bfeb-04cab799dc80",
      "metadata": {
        "id": "1be1e9c6-37cf-4a5f-bfeb-04cab799dc80"
      },
      "source": [
        "4. Проверьте, насколько популярен Python в требованиях работодателей к DS.Для этого вычислите количество вакансий, в которых в качестве ключевого навыка указан Python.\n",
        "\n",
        "** Это можно сделать помощью запроса, аналогичного предыдущему.*"
      ]
    },
    {
      "cell_type": "code",
      "execution_count": null,
      "id": "0036a355-9ccf-4564-8b01-73d8194297e7",
      "metadata": {
        "id": "0036a355-9ccf-4564-8b01-73d8194297e7"
      },
      "outputs": [],
      "source": [
        "query_6_4 = '''\n",
        "SELECT\n",
        "    COUNT(*)\n",
        "FROM\n",
        "    public.vacancies\n",
        "WHERE\n",
        "    ((lower(name) LIKE '%data scientist%')\n",
        "    OR (lower(name) LIKE '%data science%')\n",
        "    OR (lower(name) LIKE '%исследователь данных%')\n",
        "    OR ((name LIKE '%ML%') AND (name NOT LIKE '%HTML%'))\n",
        "    OR (lower(name) LIKE '%machine learning%')\n",
        "    OR (lower(name) LIKE '%машинн%обучен%'))\n",
        "    AND\n",
        "    (lower(key_skills) LIKE '%python%')\n",
        "'''"
      ]
    },
    {
      "cell_type": "code",
      "execution_count": null,
      "id": "1i-5WyucvQ6v",
      "metadata": {
        "id": "1i-5WyucvQ6v"
      },
      "outputs": [
        {
          "data": {
            "text/plain": [
              "351"
            ]
          },
          "execution_count": 102,
          "metadata": {},
          "output_type": "execute_result"
        }
      ],
      "source": [
        "count_vac_py = pd.read_sql_query(query_6_4, connection)\n",
        "count_vac_py['count'][0]"
      ]
    },
    {
      "cell_type": "markdown",
      "id": "ec3c8db7-fa21-4a41-a994-1af63742a642",
      "metadata": {
        "id": "ec3c8db7-fa21-4a41-a994-1af63742a642"
      },
      "source": [
        "5. Сколько ключевых навыков в среднем указывают в вакансиях для DS?\n",
        "Ответ округлите до двух знаков после точки-разделителя."
      ]
    },
    {
      "cell_type": "code",
      "execution_count": null,
      "id": "949132bc-d5b6-4611-8218-0b9a504d74f4",
      "metadata": {
        "id": "949132bc-d5b6-4611-8218-0b9a504d74f4"
      },
      "outputs": [],
      "source": [
        "# Кол-во '\\t' + 1 - наше кол-во ключевых навыков, т.к. они все разделены именно знаком табуляции\n",
        "# Считаем разницу через length(), причем от изначального признака отнимаем тот же признак, но с удаленными '\\t'\n",
        "# Получаем кол-во '\\t', затем считаем среднее\n",
        "query_6_5 = '''\n",
        "SELECT\n",
        "    ROUND(AVG(length(key_skills)-length(replace(key_skills, '\\t', '')) + 1), 2)\n",
        "FROM\n",
        "    public.vacancies\n",
        "WHERE\n",
        "    (lower(name) LIKE '%data scientist%')\n",
        "    OR (lower(name) LIKE '%data science%')\n",
        "    OR (lower(name) LIKE '%исследователь данных%')\n",
        "    OR ((name LIKE '%ML%') AND (name NOT LIKE '%HTML%'))\n",
        "    OR (lower(name) LIKE '%machine learning%')\n",
        "    OR (lower(name) LIKE '%машинн%обучен%')\n",
        "'''"
      ]
    },
    {
      "cell_type": "code",
      "execution_count": null,
      "id": "a3V24Tvmviqk",
      "metadata": {
        "id": "a3V24Tvmviqk"
      },
      "outputs": [
        {
          "data": {
            "text/plain": [
              "6.41"
            ]
          },
          "execution_count": 104,
          "metadata": {},
          "output_type": "execute_result"
        }
      ],
      "source": [
        "avg_ds_ks = pd.read_sql_query(query_6_5, connection)\n",
        "avg_ds_ks['round'][0]"
      ]
    },
    {
      "cell_type": "markdown",
      "id": "1041c17a-ca8f-4543-a0ca-32778914fb00",
      "metadata": {
        "id": "1041c17a-ca8f-4543-a0ca-32778914fb00"
      },
      "source": [
        "6. Напишите запрос, позволяющий вычислить, какую зарплату для DS в **среднем** указывают для каждого типа требуемого опыта (уникальное значение из поля *experience*). \n",
        "\n",
        "При решении задачи примите во внимание следующее:\n",
        "1. Рассматриваем только вакансии, у которых заполнено хотя бы одно из двух полей с зарплатой.\n",
        "2. Если заполнены оба поля с зарплатой, то считаем зарплату по каждой вакансии как сумму двух полей, делённую на 2. Если заполнено только одно из полей, то его и считаем зарплатой по вакансии.\n",
        "3. Если в расчётах участвует null, в результате он тоже даст null (посмотрите, что возвращает запрос select 1 + null). Чтобы избежать этой ситуацию, мы воспользуемся функцией [coalesce](https://postgrespro.ru/docs/postgresql/9.5/functions-conditional#functions-coalesce-nvl-ifnull), которая заменит null на значение, которое мы передадим. Например, посмотрите, что возвращает запрос `select 1 + coalesce(null, 0)`\n",
        "\n",
        "Выясните, на какую зарплату в среднем может рассчитывать дата-сайентист с опытом работы от 3 до 6 лет. Результат округлите до целого числа. "
      ]
    },
    {
      "cell_type": "code",
      "execution_count": null,
      "id": "6a743d39-5204-48d3-8271-b9f88e68d40e",
      "metadata": {
        "id": "6a743d39-5204-48d3-8271-b9f88e68d40e"
      },
      "outputs": [],
      "source": [
        "# Зарплата вычисляется как (salary_from+salary_to) / 2, если все вилки указаны\n",
        "# Если хотя бы одна вилка отсутствует, то с помощью функции coalesce() - мы заменяем отсутствующий признак на имеющийся\n",
        "# Затем считаем средний по опыту\n",
        "query_6_6 = '''\n",
        "SELECT\n",
        "    experience,\n",
        "    ROUND(AVG((COALESCE(salary_from, salary_to)+COALESCE(salary_to, salary_from)) / 2))\n",
        "FROM\n",
        "    public.vacancies\n",
        "WHERE\n",
        "    ((lower(name) LIKE '%data scientist%')\n",
        "    OR (lower(name) LIKE '%data science%')\n",
        "    OR (lower(name) LIKE '%исследователь данных%')\n",
        "    OR ((name LIKE '%ML%') AND (name NOT LIKE '%HTML%'))\n",
        "    OR (lower(name) LIKE '%machine learning%')\n",
        "    OR (lower(name) LIKE '%машинн%обучен%'))\n",
        "    AND\n",
        "    ((salary_from IS NOT NULL) OR (salary_to IS NOT NULL))\n",
        "GROUP BY 1\n",
        "ORDER BY 1\n",
        "'''"
      ]
    },
    {
      "cell_type": "code",
      "execution_count": null,
      "id": "aRIJ0mZEwU1_",
      "metadata": {
        "id": "aRIJ0mZEwU1_"
      },
      "outputs": [
        {
          "data": {
            "text/html": [
              "<div>\n",
              "<style scoped>\n",
              "    .dataframe tbody tr th:only-of-type {\n",
              "        vertical-align: middle;\n",
              "    }\n",
              "\n",
              "    .dataframe tbody tr th {\n",
              "        vertical-align: top;\n",
              "    }\n",
              "\n",
              "    .dataframe thead th {\n",
              "        text-align: right;\n",
              "    }\n",
              "</style>\n",
              "<table border=\"1\" class=\"dataframe\">\n",
              "  <thead>\n",
              "    <tr style=\"text-align: right;\">\n",
              "      <th></th>\n",
              "      <th>experience</th>\n",
              "      <th>round</th>\n",
              "    </tr>\n",
              "  </thead>\n",
              "  <tbody>\n",
              "    <tr>\n",
              "      <th>0</th>\n",
              "      <td>Нет опыта</td>\n",
              "      <td>74643.0</td>\n",
              "    </tr>\n",
              "    <tr>\n",
              "      <th>1</th>\n",
              "      <td>От 1 года до 3 лет</td>\n",
              "      <td>139675.0</td>\n",
              "    </tr>\n",
              "    <tr>\n",
              "      <th>2</th>\n",
              "      <td>От 3 до 6 лет</td>\n",
              "      <td>243115.0</td>\n",
              "    </tr>\n",
              "  </tbody>\n",
              "</table>\n",
              "</div>"
            ],
            "text/plain": [
              "           experience     round\n",
              "0           Нет опыта   74643.0\n",
              "1  От 1 года до 3 лет  139675.0\n",
              "2       От 3 до 6 лет  243115.0"
            ]
          },
          "execution_count": 106,
          "metadata": {},
          "output_type": "execute_result"
        }
      ],
      "source": [
        "avg_salary = pd.read_sql_query(query_6_6, connection)\n",
        "avg_salary"
      ]
    },
    {
      "cell_type": "markdown",
      "id": "6a7892b4-4113-4746-adce-18aa2844f18e",
      "metadata": {
        "id": "6a7892b4-4113-4746-adce-18aa2844f18e"
      },
      "source": [
        "***"
      ]
    },
    {
      "cell_type": "code",
      "execution_count": null,
      "id": "e77cd379",
      "metadata": {},
      "outputs": [
        {
          "data": {
            "text/plain": [
              "480"
            ]
          },
          "execution_count": 107,
          "metadata": {},
          "output_type": "execute_result"
        }
      ],
      "source": [
        "# Доп. запрос, чтобы узнать сколько всего вакансий относятся к DS\n",
        "query_addit_6= '''\n",
        "SELECT\n",
        "    COUNT(*)\n",
        "FROM\n",
        "    public.vacancies\n",
        "WHERE\n",
        "    ((lower(name) LIKE '%data scientist%')\n",
        "    OR (lower(name) LIKE '%data science%')\n",
        "    OR (lower(name) LIKE '%исследователь данных%')\n",
        "    OR ((name LIKE '%ML%') AND (name NOT LIKE '%HTML%'))\n",
        "    OR (lower(name) LIKE '%machine learning%')\n",
        "    OR (lower(name) LIKE '%машинн%обучен%'))\n",
        "'''\n",
        "\n",
        "cnt_ds = pd.read_sql_query(query_addit_6, connection)\n",
        "cnt_ds['count'][0]"
      ]
    },
    {
      "cell_type": "code",
      "execution_count": null,
      "id": "9805ed7e",
      "metadata": {},
      "outputs": [
        {
          "data": {
            "text/html": [
              "<div>\n",
              "<style scoped>\n",
              "    .dataframe tbody tr th:only-of-type {\n",
              "        vertical-align: middle;\n",
              "    }\n",
              "\n",
              "    .dataframe tbody tr th {\n",
              "        vertical-align: top;\n",
              "    }\n",
              "\n",
              "    .dataframe thead th {\n",
              "        text-align: right;\n",
              "    }\n",
              "</style>\n",
              "<table border=\"1\" class=\"dataframe\">\n",
              "  <thead>\n",
              "    <tr style=\"text-align: right;\">\n",
              "      <th></th>\n",
              "      <th>name</th>\n",
              "      <th>salary_from</th>\n",
              "      <th>salary_to</th>\n",
              "    </tr>\n",
              "  </thead>\n",
              "  <tbody>\n",
              "    <tr>\n",
              "      <th>0</th>\n",
              "      <td>Data Scientist (Python)</td>\n",
              "      <td>None</td>\n",
              "      <td>None</td>\n",
              "    </tr>\n",
              "    <tr>\n",
              "      <th>1</th>\n",
              "      <td>Lead Data Scientist</td>\n",
              "      <td>None</td>\n",
              "      <td>None</td>\n",
              "    </tr>\n",
              "    <tr>\n",
              "      <th>2</th>\n",
              "      <td>Machine learning research lead</td>\n",
              "      <td>None</td>\n",
              "      <td>None</td>\n",
              "    </tr>\n",
              "    <tr>\n",
              "      <th>3</th>\n",
              "      <td>Machine Learning Team Lead</td>\n",
              "      <td>None</td>\n",
              "      <td>None</td>\n",
              "    </tr>\n",
              "    <tr>\n",
              "      <th>4</th>\n",
              "      <td>Machine Learning Team Lead (Go/Scala/Python) (...</td>\n",
              "      <td>None</td>\n",
              "      <td>None</td>\n",
              "    </tr>\n",
              "    <tr>\n",
              "      <th>5</th>\n",
              "      <td>ML developer</td>\n",
              "      <td>None</td>\n",
              "      <td>None</td>\n",
              "    </tr>\n",
              "    <tr>\n",
              "      <th>6</th>\n",
              "      <td>Senior Data Scientist</td>\n",
              "      <td>None</td>\n",
              "      <td>None</td>\n",
              "    </tr>\n",
              "    <tr>\n",
              "      <th>7</th>\n",
              "      <td>Senior ML-инженер</td>\n",
              "      <td>None</td>\n",
              "      <td>None</td>\n",
              "    </tr>\n",
              "    <tr>\n",
              "      <th>8</th>\n",
              "      <td>Team Lead Data Science</td>\n",
              "      <td>None</td>\n",
              "      <td>None</td>\n",
              "    </tr>\n",
              "    <tr>\n",
              "      <th>9</th>\n",
              "      <td>Архитектор решений с опытов в Tiny ML</td>\n",
              "      <td>None</td>\n",
              "      <td>None</td>\n",
              "    </tr>\n",
              "    <tr>\n",
              "      <th>10</th>\n",
              "      <td>Архитектор решений (с опытом в TinyML)</td>\n",
              "      <td>None</td>\n",
              "      <td>None</td>\n",
              "    </tr>\n",
              "    <tr>\n",
              "      <th>11</th>\n",
              "      <td>Архитектор решений с опытом в Tiny ML</td>\n",
              "      <td>None</td>\n",
              "      <td>None</td>\n",
              "    </tr>\n",
              "  </tbody>\n",
              "</table>\n",
              "</div>"
            ],
            "text/plain": [
              "                                                 name salary_from salary_to\n",
              "0                             Data Scientist (Python)        None      None\n",
              "1                                 Lead Data Scientist        None      None\n",
              "2                      Machine learning research lead        None      None\n",
              "3                          Machine Learning Team Lead        None      None\n",
              "4   Machine Learning Team Lead (Go/Scala/Python) (...        None      None\n",
              "5                                        ML developer        None      None\n",
              "6                               Senior Data Scientist        None      None\n",
              "7                                   Senior ML-инженер        None      None\n",
              "8                              Team Lead Data Science        None      None\n",
              "9               Архитектор решений с опытов в Tiny ML        None      None\n",
              "10             Архитектор решений (с опытом в TinyML)        None      None\n",
              "11              Архитектор решений с опытом в Tiny ML        None      None"
            ]
          },
          "execution_count": 108,
          "metadata": {},
          "output_type": "execute_result"
        }
      ],
      "source": [
        "# Доп. запрос, чтобы узнать на какие позиции в DS-вакансиях требуются специалисты с опытом \"Более 6 лет\"\n",
        "query_addit_7 = '''\n",
        "SELECT\n",
        "    DISTINCT name,\n",
        "    salary_from,\n",
        "    salary_to\n",
        "FROM\n",
        "    public.vacancies\n",
        "WHERE\n",
        "    ((lower(name) LIKE '%data scientist%')\n",
        "    OR (lower(name) LIKE '%data science%')\n",
        "    OR (lower(name) LIKE '%исследователь данных%')\n",
        "    OR ((name LIKE '%ML%') AND (name NOT LIKE '%HTML%'))\n",
        "    OR (lower(name) LIKE '%machine learning%')\n",
        "    OR (lower(name) LIKE '%машинн%обучен%'))\n",
        "    AND\n",
        "    (experience = 'Более 6 лет')\n",
        "'''\n",
        "\n",
        "teamlead_ds = pd.read_sql_query(query_addit_7, connection)\n",
        "teamlead_ds"
      ]
    },
    {
      "cell_type": "code",
      "execution_count": null,
      "id": "c436658b",
      "metadata": {},
      "outputs": [
        {
          "data": {
            "text/html": [
              "<div>\n",
              "<style scoped>\n",
              "    .dataframe tbody tr th:only-of-type {\n",
              "        vertical-align: middle;\n",
              "    }\n",
              "\n",
              "    .dataframe tbody tr th {\n",
              "        vertical-align: top;\n",
              "    }\n",
              "\n",
              "    .dataframe thead th {\n",
              "        text-align: right;\n",
              "    }\n",
              "</style>\n",
              "<table border=\"1\" class=\"dataframe\">\n",
              "  <thead>\n",
              "    <tr style=\"text-align: right;\">\n",
              "      <th></th>\n",
              "      <th>name</th>\n",
              "      <th>count</th>\n",
              "    </tr>\n",
              "  </thead>\n",
              "  <tbody>\n",
              "    <tr>\n",
              "      <th>0</th>\n",
              "      <td>СБЕР</td>\n",
              "      <td>37</td>\n",
              "    </tr>\n",
              "    <tr>\n",
              "      <th>1</th>\n",
              "      <td>Bell Integrator</td>\n",
              "      <td>25</td>\n",
              "    </tr>\n",
              "    <tr>\n",
              "      <th>2</th>\n",
              "      <td>Банк ВТБ (ПАО)</td>\n",
              "      <td>18</td>\n",
              "    </tr>\n",
              "    <tr>\n",
              "      <th>3</th>\n",
              "      <td>VK</td>\n",
              "      <td>15</td>\n",
              "    </tr>\n",
              "    <tr>\n",
              "      <th>4</th>\n",
              "      <td>Positive Technologies</td>\n",
              "      <td>11</td>\n",
              "    </tr>\n",
              "    <tr>\n",
              "      <th>5</th>\n",
              "      <td>Яндекс</td>\n",
              "      <td>9</td>\n",
              "    </tr>\n",
              "    <tr>\n",
              "      <th>6</th>\n",
              "      <td>EvenBet Gaming</td>\n",
              "      <td>9</td>\n",
              "    </tr>\n",
              "    <tr>\n",
              "      <th>7</th>\n",
              "      <td>МегаФон</td>\n",
              "      <td>8</td>\n",
              "    </tr>\n",
              "    <tr>\n",
              "      <th>8</th>\n",
              "      <td>Andersen</td>\n",
              "      <td>7</td>\n",
              "    </tr>\n",
              "    <tr>\n",
              "      <th>9</th>\n",
              "      <td>Ozon</td>\n",
              "      <td>6</td>\n",
              "    </tr>\n",
              "  </tbody>\n",
              "</table>\n",
              "</div>"
            ],
            "text/plain": [
              "                    name  count\n",
              "0                   СБЕР     37\n",
              "1        Bell Integrator     25\n",
              "2         Банк ВТБ (ПАО)     18\n",
              "3                     VK     15\n",
              "4  Positive Technologies     11\n",
              "5                 Яндекс      9\n",
              "6         EvenBet Gaming      9\n",
              "7                МегаФон      8\n",
              "8               Andersen      7\n",
              "9                   Ozon      6"
            ]
          },
          "execution_count": 109,
          "metadata": {},
          "output_type": "execute_result"
        }
      ],
      "source": [
        "# Доп. запрос для определения лидеров по кол-ву размещенных DS-вакансий\n",
        "query_addit_8 = '''\n",
        "SELECT\n",
        "    em.name,\n",
        "    COUNT(vac.id)\n",
        "FROM\n",
        "    public.vacancies vac\n",
        "    LEFT JOIN public.employers em ON em.id=vac.employer_id\n",
        "WHERE\n",
        "    ((lower(vac.name) LIKE '%data scientist%')\n",
        "    OR (lower(vac.name) LIKE '%data science%')\n",
        "    OR (lower(vac.name) LIKE '%исследователь данных%')\n",
        "    OR ((vac.name LIKE '%ML%') AND (vac.name NOT LIKE '%HTML%'))\n",
        "    OR (lower(vac.name) LIKE '%machine learning%')\n",
        "    OR (lower(vac.name) LIKE '%машинн%обучен%'))\n",
        "GROUP BY 1\n",
        "ORDER BY 2 DESC\n",
        "LIMIT 10\n",
        "'''\n",
        "\n",
        "ds_emp = pd.read_sql_query(query_addit_8, connection)\n",
        "ds_emp"
      ]
    },
    {
      "cell_type": "code",
      "execution_count": null,
      "id": "102f670d",
      "metadata": {},
      "outputs": [
        {
          "data": {
            "text/html": [
              "<div>\n",
              "<style scoped>\n",
              "    .dataframe tbody tr th:only-of-type {\n",
              "        vertical-align: middle;\n",
              "    }\n",
              "\n",
              "    .dataframe tbody tr th {\n",
              "        vertical-align: top;\n",
              "    }\n",
              "\n",
              "    .dataframe thead th {\n",
              "        text-align: right;\n",
              "    }\n",
              "</style>\n",
              "<table border=\"1\" class=\"dataframe\">\n",
              "  <thead>\n",
              "    <tr style=\"text-align: right;\">\n",
              "      <th></th>\n",
              "      <th>sal_from</th>\n",
              "      <th>sal_to</th>\n",
              "    </tr>\n",
              "  </thead>\n",
              "  <tbody>\n",
              "    <tr>\n",
              "      <th>0</th>\n",
              "      <td>146805.0</td>\n",
              "      <td>216356.0</td>\n",
              "    </tr>\n",
              "  </tbody>\n",
              "</table>\n",
              "</div>"
            ],
            "text/plain": [
              "   sal_from    sal_to\n",
              "0  146805.0  216356.0"
            ]
          },
          "execution_count": 110,
          "metadata": {},
          "output_type": "execute_result"
        }
      ],
      "source": [
        "# Доп. запрос для определения среднего диапазона зарплат для DS-специалистов\n",
        "query_addit_9 = '''\n",
        "SELECT \n",
        "    ROUND(AVG(salary_from)) sal_from,\n",
        "    ROUND(AVG(salary_to)) sal_to\n",
        "FROM\n",
        "    public.vacancies\n",
        "WHERE\n",
        "    ((lower(name) LIKE '%data scientist%')\n",
        "    OR (lower(name) LIKE '%data science%')\n",
        "    OR (lower(name) LIKE '%исследователь данных%')\n",
        "    OR ((name LIKE '%ML%') AND (name NOT LIKE '%HTML%'))\n",
        "    OR (lower(name) LIKE '%machine learning%')\n",
        "    OR (lower(name) LIKE '%машинн%обучен%'))\n",
        "'''\n",
        "\n",
        "ds_sal = pd.read_sql_query(query_addit_9, connection)\n",
        "ds_sal"
      ]
    },
    {
      "cell_type": "markdown",
      "id": "cb8adb82",
      "metadata": {},
      "source": [
        "- ~4% вакансий имеют отношение к данным и ~1% имеет отношение непосредственно к области DS. И этот процент будет только расти, поскольку данные - чуть ли не самый важный аспект в бизнесе.\n",
        "- ~10% от вакансий DS составляют специалисты уровня Junior.\n",
        "- В ~42% вакансий DS требуют знание SQL и в ~73% вакансий - знание Python. Это самые базовые навыки, которые должен иметь в своем арсенале DS-соискатель. Python - самый популярный язык программирования для машинного обучения и анализа данных, а SQL - уже давно стал стандартом для работы с данными.\n",
        "- В среднем специалистам DS требуются примерно столько же ключевых навыков (6.41), сколько и для остальных профессий (6.37). \n",
        "- В среднем зарплаты для DS-специалистов находятся в диапазоне от 147 тыс. до 216 тыс. руб. Это намного выше диапазона по всем вакансиям, что объясняется дефицитом кадров в этой сфере.\n",
        "- С повышением опыта в сфере DS - зарплата в среднем возрастает на 80.5%. Также среди вакансий DS с требуемым опытом \"Более 6 лет\" - зарплату не указывают. Как правило на такие позиции требуются Тимлиды и Сеньоры.\n",
        "- СБЕР активнее всех разыскивает DS-специалистов, что неудивительно для крупнейшего финансового конгломерата в России и Восточной Европе. Банковская система - самая нуждающаяся в услугах DS-специалистов сфера."
      ]
    },
    {
      "cell_type": "markdown",
      "id": "c0ED6fh7wiBT",
      "metadata": {
        "id": "c0ED6fh7wiBT"
      },
      "source": [
        "# Общий вывод по проекту"
      ]
    },
    {
      "cell_type": "markdown",
      "id": "03456cfa",
      "metadata": {},
      "source": [
        "Целевым признаком для нас является **зарплатная вилка**. Если при указании верхней и нижней границы - можно просто посчитать среднее, то для случаев, когда вилка не указывается вообще (половина всех вакансий), нужно строить отдельную модель, которая по остальным параметрам будет формировать приблизительное значение зарплаты, чтобы отображать более подходящие рекомендации.\n",
        "\n",
        "Решение задачи с одной зарплатной вилкой недостаточно. Треть работодателей не указывают сферу деятельности. Чтобы построить более адекватную систему рекомендаций, нужно решить эту задачу. Например, сделать поле со сферой деятельности, при регистрации вакансии на сайте, обязательной для заполнения. В отличие от зарплаты, нет причин не указывать этот пункт в вакансии.\n",
        "\n",
        "Предположительно все данные могут пригодиться нам при построении будущей модели:\n",
        "- *регион* - чтобы определить, что работодатель распологается в нужном месте для соискателя\n",
        "- *тип трудоустройства*, *тип рабочего графика* - чтобы найти соискателю нужные ему условия\n",
        "- *ключевые навыки* - чтобы выдать соискателю вакансии \"по его уровню\"\n",
        "- *и т.д.*\n",
        "\n",
        "Интересные замечания по всем вакансиям:\n",
        "- Москва - лидер-регион по кол-ву вакансий\n",
        "- У половины вакансий отсутствует информация о зарплате\n",
        "- В среднем зарплаты находятся в диапазоне от 71 тыс. до 110 тыс. руб.\n",
        "- Требуемый опыт \"от 1 года до 3 лет\" - лидер по кол-ву вакансий\n",
        "- В среднем работодатели указывают 6 ключевых навыков\n",
        "- \"Яндекс\" - лидер-компания по кол-ву вакансий\n",
        "- Работодатели не выставляют в качестве региона целую страну\n",
        "- Треть работодателей не указывают сферу деятельности\n",
        "- Большая половина работодателей не ищут людей без опыта работы\n",
        "\n",
        "Наша сфера - DS. Несмотря на довольно малый процент от всех вакансий на сайте (1%), это одна из самых быстроразвивающихся сфер, кадровый голод в которой ощущается уже сейчас (выражается в огромных зарплатах по сравнению с остальными вакансиями).\n",
        "\n",
        "Интересные замечания по DS-вакансиям:\n",
        "- СБЕР - лидер-компания по кол-ву вакансий\n",
        "- В среднем DS-специалистам требуются столько же ключевых навыков, сколько и для остальных профессий (6)\n",
        "- С повышением опыта - зарплата возрастает в среднем на 80.5%\n",
        "- Одни из самых \"профитных\" навыков DS-специалиста - SQL и Python\n",
        "- В среднем зарплаты находятся в диапазоне от 147 тыс. до 216 тыс. руб."
      ]
    }
  ],
  "metadata": {
    "colab": {
      "collapsed_sections": [
        "8d62a9f3-f64e-4fe7-bdac-c4dffa16155e"
      ],
      "provenance": []
    },
    "kernelspec": {
      "display_name": "Python 3 (ipykernel)",
      "language": "python",
      "name": "python3"
    },
    "language_info": {
      "codemirror_mode": {
        "name": "ipython",
        "version": 3
      },
      "file_extension": ".py",
      "mimetype": "text/x-python",
      "name": "python",
      "nbconvert_exporter": "python",
      "pygments_lexer": "ipython3",
      "version": "3.10.11"
    }
  },
  "nbformat": 4,
  "nbformat_minor": 5
}
